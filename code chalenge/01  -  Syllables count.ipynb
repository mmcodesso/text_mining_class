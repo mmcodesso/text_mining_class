{
 "cells": [
  {
   "cell_type": "markdown",
   "metadata": {},
   "source": [
    "# Code Chalenge\n",
    "\n",
    "## CMU Pronouncing Dictionary\n",
    "\n",
    "There is no way to know how an English word should be pronounced given only its spelling. However, in the course of creative language generation, we're often in need of information about how a particular word would be pronounced, if read aloud; we might want to use this information for a number of creative and poetic purposes, such as automated rhyming and assonance, or to generate text that conforms to a particular meter.\n",
    "\n",
    "Fortunately, the powers that be (i.e., DARPA and \"member companies of the Carnegie Mellon Sphinx Speech Consortium) have gifted us with the CMU Pronouncing Dictionary. The CMU Pronouncing Dictionary is a plain-text, computer-readable database that maps English words to their pronunciations. It's an incredible boon to poets and researchers alike.\n",
    "\n",
    "Visit the home page of the dictionary (http://www.speech.cs.cmu.edu/cgi-bin/cmudict), or download the dictionary itself (http://svn.code.sf.net/p/cmusphinx/code/trunk/cmudict/cmudict-0.7b)."
   ]
  },
  {
   "cell_type": "markdown",
   "metadata": {},
   "source": [
    "## Importing Dataset"
   ]
  },
  {
   "cell_type": "markdown",
   "metadata": {},
   "source": [
    "### File format\n",
    "\n",
    "But before we start working with libraries, I want to explain a little bit about how the dictionary itself is structured, so you can parse it on your own if you need to!\n",
    "\n",
    "The dictionary is a plain-text file. Each line of the file has a word and its pronunciation, separated by two spaces. Here's a sample line:\n",
    "\n",
    "CARNEGIE  K AA1 R N EH0 G IY0\n",
    "\n",
    "This is the entry for the word CARNEGIE, which has a pronunciation of K AA1 R N EH0 G IY0 (for more on what the characters in the pronunciation mean, see below).\n",
    "\n",
    "Occasionally, one word will have several pronunciations associated with it. In those cases, the dictionary has an entry for each possible pronunciation, with a parenthesized number that increments for each subsequent entry:\n",
    "\n",
    "ADULT  AH0 D AH1 L T\n",
    "ADULT(1)  AE1 D AH0 L T\n",
    "\n",
    "\n",
    "Additionally, there are some lines (at the beginning of the file) that begin with a semicolon (;). These are comments and should be ignored.\n",
    "\n"
   ]
  },
  {
   "cell_type": "code",
   "execution_count": 167,
   "metadata": {
    "collapsed": true
   },
   "outputs": [],
   "source": [
    "import pandas as pd"
   ]
  },
  {
   "cell_type": "code",
   "execution_count": 168,
   "metadata": {},
   "outputs": [],
   "source": [
    "url = 'http://svn.code.sf.net/p/cmusphinx/code/trunk/cmudict/cmudict-0.7b'\n",
    "#words = pd.read_fwf('cmudict-0.7b.txt', header = None)\n",
    "words = pd.read_fwf(url, header = None, skiprows = 56, \\\n",
    "                    encoding = 'latin-1', colspecs=[(0,100)]  )\n"
   ]
  },
  {
   "cell_type": "code",
   "execution_count": 169,
   "metadata": {},
   "outputs": [
    {
     "data": {
      "text/html": [
       "<div>\n",
       "<style>\n",
       "    .dataframe thead tr:only-child th {\n",
       "        text-align: right;\n",
       "    }\n",
       "\n",
       "    .dataframe thead th {\n",
       "        text-align: left;\n",
       "    }\n",
       "\n",
       "    .dataframe tbody tr th {\n",
       "        vertical-align: top;\n",
       "    }\n",
       "</style>\n",
       "<table border=\"1\" class=\"dataframe\">\n",
       "  <thead>\n",
       "    <tr style=\"text-align: right;\">\n",
       "      <th></th>\n",
       "      <th>0</th>\n",
       "    </tr>\n",
       "  </thead>\n",
       "  <tbody>\n",
       "    <tr>\n",
       "      <th>108017</th>\n",
       "      <td>SEPARATE(1)  S EH1 P ER0 IH0 T</td>\n",
       "    </tr>\n",
       "    <tr>\n",
       "      <th>89318</th>\n",
       "      <td>PATINKIN  P AH0 T IH1 NG K IH0 N</td>\n",
       "    </tr>\n",
       "    <tr>\n",
       "      <th>111231</th>\n",
       "      <td>SLOANE  S L OW1 N</td>\n",
       "    </tr>\n",
       "    <tr>\n",
       "      <th>84720</th>\n",
       "      <td>NUCKLES  N AH1 K AH0 L Z</td>\n",
       "    </tr>\n",
       "    <tr>\n",
       "      <th>126738</th>\n",
       "      <td>VIABILITY  V AY0 AH0 B IH1 L AH0 T IY0</td>\n",
       "    </tr>\n",
       "    <tr>\n",
       "      <th>5052</th>\n",
       "      <td>APPROXIMATION  AH0 P R AA2 K S AH0 M EY1 SH AH0 N</td>\n",
       "    </tr>\n",
       "    <tr>\n",
       "      <th>72815</th>\n",
       "      <td>MAGRATH  M AH0 G R AE1 TH</td>\n",
       "    </tr>\n",
       "    <tr>\n",
       "      <th>39036</th>\n",
       "      <td>EUGENIA  Y UW2 JH IY1 N IY0 AH0</td>\n",
       "    </tr>\n",
       "    <tr>\n",
       "      <th>80177</th>\n",
       "      <td>MOODY  M UW1 D IY0</td>\n",
       "    </tr>\n",
       "    <tr>\n",
       "      <th>32490</th>\n",
       "      <td>DISFAVOR  D IH0 S F EY1 V ER0</td>\n",
       "    </tr>\n",
       "  </tbody>\n",
       "</table>\n",
       "</div>"
      ],
      "text/plain": [
       "                                                        0\n",
       "108017                     SEPARATE(1)  S EH1 P ER0 IH0 T\n",
       "89318                    PATINKIN  P AH0 T IH1 NG K IH0 N\n",
       "111231                                  SLOANE  S L OW1 N\n",
       "84720                            NUCKLES  N AH1 K AH0 L Z\n",
       "126738             VIABILITY  V AY0 AH0 B IH1 L AH0 T IY0\n",
       "5052    APPROXIMATION  AH0 P R AA2 K S AH0 M EY1 SH AH0 N\n",
       "72815                           MAGRATH  M AH0 G R AE1 TH\n",
       "39036                     EUGENIA  Y UW2 JH IY1 N IY0 AH0\n",
       "80177                                  MOODY  M UW1 D IY0\n",
       "32490                       DISFAVOR  D IH0 S F EY1 V ER0"
      ]
     },
     "execution_count": 169,
     "metadata": {},
     "output_type": "execute_result"
    }
   ],
   "source": [
    "words.sample(10)"
   ]
  },
  {
   "cell_type": "markdown",
   "metadata": {},
   "source": [
    "## Adjustment on the data impoted"
   ]
  },
  {
   "cell_type": "code",
   "execution_count": 170,
   "metadata": {},
   "outputs": [],
   "source": [
    "words_olny = list(words[0])\n",
    "\n",
    "collumn_1 = []\n",
    "collumn_2 = []\n",
    "\n",
    "for string in words_olny:\n",
    "    collumn_1.append(string.split()[0])\n",
    "    collumn_2.append(\" \".join(string.split()[1:]))    "
   ]
  },
  {
   "cell_type": "code",
   "execution_count": 171,
   "metadata": {},
   "outputs": [],
   "source": [
    "words = pd.DataFrame(collumn_1, columns=['word'])\n",
    "words['config'] = collumn_2"
   ]
  },
  {
   "cell_type": "code",
   "execution_count": 172,
   "metadata": {},
   "outputs": [
    {
     "data": {
      "text/html": [
       "<div>\n",
       "<style>\n",
       "    .dataframe thead tr:only-child th {\n",
       "        text-align: right;\n",
       "    }\n",
       "\n",
       "    .dataframe thead th {\n",
       "        text-align: left;\n",
       "    }\n",
       "\n",
       "    .dataframe tbody tr th {\n",
       "        vertical-align: top;\n",
       "    }\n",
       "</style>\n",
       "<table border=\"1\" class=\"dataframe\">\n",
       "  <thead>\n",
       "    <tr style=\"text-align: right;\">\n",
       "      <th></th>\n",
       "      <th>word</th>\n",
       "      <th>config</th>\n",
       "    </tr>\n",
       "  </thead>\n",
       "  <tbody>\n",
       "    <tr>\n",
       "      <th>56097</th>\n",
       "      <td>HORNBOSTEL</td>\n",
       "      <td>HH AO1 R N B AH0 S T AH0 L</td>\n",
       "    </tr>\n",
       "    <tr>\n",
       "      <th>48041</th>\n",
       "      <td>GLIMMERS</td>\n",
       "      <td>G L IH1 M ER0 Z</td>\n",
       "    </tr>\n",
       "    <tr>\n",
       "      <th>104309</th>\n",
       "      <td>SAITTA</td>\n",
       "      <td>S EY1 T AH0</td>\n",
       "    </tr>\n",
       "    <tr>\n",
       "      <th>115687</th>\n",
       "      <td>STRICKEN</td>\n",
       "      <td>S T R IH1 K AH0 N</td>\n",
       "    </tr>\n",
       "    <tr>\n",
       "      <th>31527</th>\n",
       "      <td>DICTATION</td>\n",
       "      <td>D IH0 K T EY1 SH AH0 N</td>\n",
       "    </tr>\n",
       "  </tbody>\n",
       "</table>\n",
       "</div>"
      ],
      "text/plain": [
       "              word                      config\n",
       "56097   HORNBOSTEL  HH AO1 R N B AH0 S T AH0 L\n",
       "48041     GLIMMERS             G L IH1 M ER0 Z\n",
       "104309      SAITTA                 S EY1 T AH0\n",
       "115687    STRICKEN           S T R IH1 K AH0 N\n",
       "31527    DICTATION      D IH0 K T EY1 SH AH0 N"
      ]
     },
     "execution_count": 172,
     "metadata": {},
     "output_type": "execute_result"
    }
   ],
   "source": [
    "words.sample(5)"
   ]
  },
  {
   "cell_type": "markdown",
   "metadata": {},
   "source": [
    "## Counting syllables\n",
    "\n",
    "To count syllables the number of syllables, you need only to count how many vowels there are. Because all vowels in the dictionary have a number next to them (for stress), you can simply count how many times those numbers occur. "
   ]
  },
  {
   "cell_type": "code",
   "execution_count": 173,
   "metadata": {
    "collapsed": true
   },
   "outputs": [],
   "source": [
    "def syllable_count(word):\n",
    "    return sum(word.count(i) for i in '012')"
   ]
  },
  {
   "cell_type": "code",
   "execution_count": 174,
   "metadata": {
    "collapsed": true
   },
   "outputs": [],
   "source": [
    "words['syllables'] = words['config'].apply(syllable_count)"
   ]
  },
  {
   "cell_type": "code",
   "execution_count": 175,
   "metadata": {},
   "outputs": [
    {
     "data": {
      "text/html": [
       "<div>\n",
       "<style>\n",
       "    .dataframe thead tr:only-child th {\n",
       "        text-align: right;\n",
       "    }\n",
       "\n",
       "    .dataframe thead th {\n",
       "        text-align: left;\n",
       "    }\n",
       "\n",
       "    .dataframe tbody tr th {\n",
       "        vertical-align: top;\n",
       "    }\n",
       "</style>\n",
       "<table border=\"1\" class=\"dataframe\">\n",
       "  <thead>\n",
       "    <tr style=\"text-align: right;\">\n",
       "      <th></th>\n",
       "      <th>word</th>\n",
       "      <th>config</th>\n",
       "      <th>syllables</th>\n",
       "    </tr>\n",
       "  </thead>\n",
       "  <tbody>\n",
       "    <tr>\n",
       "      <th>23618</th>\n",
       "      <td>COMPRISES(1)</td>\n",
       "      <td>K AH0 M P R AY1 Z IH0 Z</td>\n",
       "      <td>3</td>\n",
       "    </tr>\n",
       "    <tr>\n",
       "      <th>97558</th>\n",
       "      <td>RATHERT</td>\n",
       "      <td>R AE1 TH ER0 T</td>\n",
       "      <td>2</td>\n",
       "    </tr>\n",
       "    <tr>\n",
       "      <th>41062</th>\n",
       "      <td>FEATHERLY</td>\n",
       "      <td>F EH1 DH ER0 L IY0</td>\n",
       "      <td>3</td>\n",
       "    </tr>\n",
       "    <tr>\n",
       "      <th>110969</th>\n",
       "      <td>SLABS</td>\n",
       "      <td>S L AE1 B Z</td>\n",
       "      <td>1</td>\n",
       "    </tr>\n",
       "    <tr>\n",
       "      <th>126407</th>\n",
       "      <td>VENSEL</td>\n",
       "      <td>V EH1 N S AH0 L</td>\n",
       "      <td>2</td>\n",
       "    </tr>\n",
       "    <tr>\n",
       "      <th>85135</th>\n",
       "      <td>OARLOCK</td>\n",
       "      <td>AO1 R L AA2 K</td>\n",
       "      <td>2</td>\n",
       "    </tr>\n",
       "    <tr>\n",
       "      <th>7483</th>\n",
       "      <td>BACKES</td>\n",
       "      <td>B AE1 K S</td>\n",
       "      <td>1</td>\n",
       "    </tr>\n",
       "    <tr>\n",
       "      <th>32028</th>\n",
       "      <td>DIOCESE(1)</td>\n",
       "      <td>D AY1 AH0 S AH0 S</td>\n",
       "      <td>3</td>\n",
       "    </tr>\n",
       "    <tr>\n",
       "      <th>82676</th>\n",
       "      <td>NEIS</td>\n",
       "      <td>N IY1 Z</td>\n",
       "      <td>1</td>\n",
       "    </tr>\n",
       "    <tr>\n",
       "      <th>66476</th>\n",
       "      <td>KUMBAYA</td>\n",
       "      <td>K UH2 M B AY0 Y AH1</td>\n",
       "      <td>3</td>\n",
       "    </tr>\n",
       "  </tbody>\n",
       "</table>\n",
       "</div>"
      ],
      "text/plain": [
       "                word                   config  syllables\n",
       "23618   COMPRISES(1)  K AH0 M P R AY1 Z IH0 Z          3\n",
       "97558        RATHERT           R AE1 TH ER0 T          2\n",
       "41062      FEATHERLY       F EH1 DH ER0 L IY0          3\n",
       "110969         SLABS              S L AE1 B Z          1\n",
       "126407        VENSEL          V EH1 N S AH0 L          2\n",
       "85135        OARLOCK            AO1 R L AA2 K          2\n",
       "7483          BACKES                B AE1 K S          1\n",
       "32028     DIOCESE(1)        D AY1 AH0 S AH0 S          3\n",
       "82676           NEIS                  N IY1 Z          1\n",
       "66476        KUMBAYA      K UH2 M B AY0 Y AH1          3"
      ]
     },
     "execution_count": 175,
     "metadata": {},
     "output_type": "execute_result"
    }
   ],
   "source": [
    "words.sample(10)"
   ]
  },
  {
   "cell_type": "markdown",
   "metadata": {},
   "source": [
    "##  Count words by syllables\n",
    "\n",
    "We can use pandas to count using group by"
   ]
  },
  {
   "cell_type": "code",
   "execution_count": 176,
   "metadata": {},
   "outputs": [
    {
     "data": {
      "text/html": [
       "<div>\n",
       "<style>\n",
       "    .dataframe thead tr:only-child th {\n",
       "        text-align: right;\n",
       "    }\n",
       "\n",
       "    .dataframe thead th {\n",
       "        text-align: left;\n",
       "    }\n",
       "\n",
       "    .dataframe tbody tr th {\n",
       "        vertical-align: top;\n",
       "    }\n",
       "</style>\n",
       "<table border=\"1\" class=\"dataframe\">\n",
       "  <thead>\n",
       "    <tr style=\"text-align: right;\">\n",
       "      <th></th>\n",
       "      <th>word</th>\n",
       "    </tr>\n",
       "    <tr>\n",
       "      <th>syllables</th>\n",
       "      <th></th>\n",
       "    </tr>\n",
       "  </thead>\n",
       "  <tbody>\n",
       "    <tr>\n",
       "      <th>1</th>\n",
       "      <td>16935</td>\n",
       "    </tr>\n",
       "    <tr>\n",
       "      <th>2</th>\n",
       "      <td>61493</td>\n",
       "    </tr>\n",
       "    <tr>\n",
       "      <th>3</th>\n",
       "      <td>37105</td>\n",
       "    </tr>\n",
       "    <tr>\n",
       "      <th>4</th>\n",
       "      <td>13474</td>\n",
       "    </tr>\n",
       "    <tr>\n",
       "      <th>5</th>\n",
       "      <td>3882</td>\n",
       "    </tr>\n",
       "    <tr>\n",
       "      <th>6</th>\n",
       "      <td>815</td>\n",
       "    </tr>\n",
       "    <tr>\n",
       "      <th>7</th>\n",
       "      <td>130</td>\n",
       "    </tr>\n",
       "    <tr>\n",
       "      <th>8</th>\n",
       "      <td>16</td>\n",
       "    </tr>\n",
       "    <tr>\n",
       "      <th>9</th>\n",
       "      <td>3</td>\n",
       "    </tr>\n",
       "    <tr>\n",
       "      <th>10</th>\n",
       "      <td>1</td>\n",
       "    </tr>\n",
       "  </tbody>\n",
       "</table>\n",
       "</div>"
      ],
      "text/plain": [
       "            word\n",
       "syllables       \n",
       "1          16935\n",
       "2          61493\n",
       "3          37105\n",
       "4          13474\n",
       "5           3882\n",
       "6            815\n",
       "7            130\n",
       "8             16\n",
       "9              3\n",
       "10             1"
      ]
     },
     "execution_count": 176,
     "metadata": {},
     "output_type": "execute_result"
    }
   ],
   "source": [
    "words[['syllables','word']].groupby('syllables').count()"
   ]
  },
  {
   "cell_type": "code",
   "execution_count": null,
   "metadata": {
    "collapsed": true
   },
   "outputs": [],
   "source": []
  }
 ],
 "metadata": {
  "kernelspec": {
   "display_name": "Python 3",
   "language": "python",
   "name": "python3"
  },
  "language_info": {
   "codemirror_mode": {
    "name": "ipython",
    "version": 3
   },
   "file_extension": ".py",
   "mimetype": "text/x-python",
   "name": "python",
   "nbconvert_exporter": "python",
   "pygments_lexer": "ipython3",
   "version": "3.6.0"
  },
  "toc": {
   "colors": {
    "hover_highlight": "#DAA520",
    "navigate_num": "#000000",
    "navigate_text": "#333333",
    "running_highlight": "#FF0000",
    "selected_highlight": "#FFD700",
    "sidebar_border": "#EEEEEE",
    "wrapper_background": "#FFFFFF"
   },
   "moveMenuLeft": true,
   "nav_menu": {
    "height": "30px",
    "width": "252px"
   },
   "navigate_menu": true,
   "number_sections": true,
   "sideBar": true,
   "threshold": 4,
   "toc_cell": false,
   "toc_section_display": "block",
   "toc_window_display": false,
   "widenNotebook": false
  }
 },
 "nbformat": 4,
 "nbformat_minor": 2
}
