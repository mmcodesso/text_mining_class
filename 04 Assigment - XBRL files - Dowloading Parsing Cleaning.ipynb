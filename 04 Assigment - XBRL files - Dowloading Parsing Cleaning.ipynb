{
 "cells": [
  {
   "cell_type": "markdown",
   "metadata": {},
   "source": [
    "# Assigment 04 \n",
    "\n",
    "In this Assigment, we are going to download XBRL files and extract some partes of the files.\n",
    "We will create a funciontion to download the files and save into a especific folder.\n",
    "\n",
    "The urls from the files are into a xml files, so we need to parse, find the right tags to get the links\n",
    "\n",
    "In this assigment, insted of saving all files into memory, we will save into disk, extract only the parts we need than save into a dataframe."
   ]
  },
  {
   "cell_type": "code",
   "execution_count": 49,
   "metadata": {
    "collapsed": true
   },
   "outputs": [],
   "source": [
    "#Importing dependencies\n",
    "import xml.etree.ElementTree as ET\n",
    "import pandas as pd\n",
    "from tqdm import tqdm\n",
    "tqdm.pandas(desc=\"Processing\")"
   ]
  },
  {
   "cell_type": "code",
   "execution_count": 2,
   "metadata": {
    "collapsed": true
   },
   "outputs": [],
   "source": [
    "#This function will download the files and save into disk\n",
    "def download_file(url, path='./'):\n",
    "    import urllib.request\n",
    "    import shutil\n",
    "    \n",
    "    file_name = path + url.split('/')[-1]\n",
    "\n",
    "    # Download the file from `url` and save it locally under `file_name`:\n",
    "    with urllib.request.urlopen(url) as response, open(file_name, 'wb') as out_file:\n",
    "        shutil.copyfileobj(response, out_file)"
   ]
  },
  {
   "cell_type": "code",
   "execution_count": 3,
   "metadata": {
    "collapsed": true
   },
   "outputs": [],
   "source": [
    "#Path where files will saved\n",
    "path ='./data/raw/xbrl/'"
   ]
  },
  {
   "cell_type": "markdown",
   "metadata": {},
   "source": [
    "We can get the list of the files in https://www.sec.gov/structureddata/rss-feeds-submitted-filings"
   ]
  },
  {
   "cell_type": "code",
   "execution_count": 4,
   "metadata": {
    "collapsed": true
   },
   "outputs": [],
   "source": [
    "url = 'https://www.sec.gov/Archives/edgar/monthly/xbrlrss-2017-08.xml'"
   ]
  },
  {
   "cell_type": "code",
   "execution_count": 5,
   "metadata": {
    "collapsed": true
   },
   "outputs": [],
   "source": [
    "download_file(url,path=path)"
   ]
  },
  {
   "cell_type": "markdown",
   "metadata": {},
   "source": [
    "Now we've downloaded the index files, let's parse and get the urls to download the xbrl files"
   ]
  },
  {
   "cell_type": "code",
   "execution_count": 6,
   "metadata": {
    "collapsed": true
   },
   "outputs": [],
   "source": [
    "#Creating variables to store the data.\n",
    "companies = []\n",
    "urls = []\n",
    "file = []\n",
    "\n",
    "#Open the xml file to parse and find the url for the xbrl files\n",
    "xmlfile = path + url.split('/')[-1]\n",
    "tree = ET.parse(xmlfile)\n",
    "root = tree.getroot()\n",
    "item = root.findall('channel/item')\n",
    "\n",
    "#The for loop will parse the xml file to find the link to the xbrl files we need\n",
    "for entry in item:   \n",
    "    \n",
    "    desc = entry.findtext('description')  \n",
    "    \n",
    "    if desc == '10-K':\n",
    "        companyName = ''\n",
    "        xbrlurl = ''\n",
    "        for item in entry.iter():\n",
    "\n",
    "            if item.tag == '{http://www.sec.gov/Archives/edgar}companyName':\n",
    "                companyName = item.text\n",
    "                \n",
    "            if item.tag =='{http://www.sec.gov/Archives/edgar}xbrlFiles':\n",
    "                for ite  in item:\n",
    "                    if ite.attrib['{http://www.sec.gov/Archives/edgar}description'] == 'XBRL INSTANCE DOCUMENT':\n",
    "                        xbrlurl = ite.attrib['{http://www.sec.gov/Archives/edgar}url']\n",
    "        \n",
    "        #Some companies dont have the xbrl file we are going to use\n",
    "        if  xbrlurl != '': \n",
    "            companies.append(companyName)  \n",
    "            urls.append(xbrlurl)\n",
    "            file.append(xbrlurl.split('/')[-1])"
   ]
  },
  {
   "cell_type": "code",
   "execution_count": 7,
   "metadata": {
    "collapsed": true
   },
   "outputs": [],
   "source": [
    "#Creating a Dataframe to easely manipulate the data\n",
    "data = pd.DataFrame(data ={'Company': companies,\n",
    "                           'url': urls,\n",
    "                           'file': file})"
   ]
  },
  {
   "cell_type": "code",
   "execution_count": 8,
   "metadata": {
    "collapsed": true
   },
   "outputs": [],
   "source": [
    "#Creating a sample of 100 documents\n",
    "data = data.sample(100, random_state=42 )"
   ]
  },
  {
   "cell_type": "code",
   "execution_count": 9,
   "metadata": {},
   "outputs": [
    {
     "name": "stderr",
     "output_type": "stream",
     "text": [
      "Processing: 100%|██████████| 100/100 [01:07<00:00,  1.65it/s]\n"
     ]
    }
   ],
   "source": [
    "download = data['url'].progress_apply(download_file, path= path)"
   ]
  },
  {
   "cell_type": "code",
   "execution_count": 10,
   "metadata": {
    "collapsed": true
   },
   "outputs": [],
   "source": [
    "#Lets create a checkpoint for start here next time\n",
    "data.to_json('./data/10k-xbrl.json')"
   ]
  },
  {
   "cell_type": "markdown",
   "metadata": {},
   "source": [
    "# Parsing XBRL files\n",
    "\n",
    "Now that we have all files, we need to find only the tags we need"
   ]
  },
  {
   "cell_type": "code",
   "execution_count": 1,
   "metadata": {
    "collapsed": true
   },
   "outputs": [],
   "source": [
    "#importing libraries\n",
    "import pandas as pd\n",
    "from tqdm import tqdm\n",
    "tqdm.pandas(desc=\"Processing\")\n",
    "\n",
    "#Loading the data\n",
    "data = pd.read_json('./data/10k-xbrl.json')\n",
    "\n",
    "#Path where files will saved\n",
    "path ='./data/raw/xbrl/'"
   ]
  },
  {
   "cell_type": "code",
   "execution_count": 2,
   "metadata": {
    "collapsed": true
   },
   "outputs": [],
   "source": [
    "def xbrl_tag(xbrlfile,path= './',tags=[]):\n",
    "    import xml.etree.ElementTree as ET\n",
    "    from bs4 import BeautifulSoup\n",
    "    import unidecode\n",
    "    import re\n",
    "    from nltk.corpus import stopwords\n",
    "\n",
    "    stops = set(stopwords.words(\"english\"))\n",
    "    \n",
    "    text = ''\n",
    "    xbrlfile = path + xbrlfile\n",
    "    tree = ET.parse(xbrlfile)\n",
    "    root = tree.getroot()\n",
    "    \n",
    "    for item in root.findall('.//'):\n",
    "        #Only will get the tag we need\n",
    "        for tag in tags:\n",
    "            if item.tag.find(tag) >= 0:          \n",
    "                text = BeautifulSoup(item.text,\"lxml-xml\",).get_text()\n",
    "                text = unidecode.unidecode(text)\n",
    "                text = re.sub('\\s', ' ',text) \n",
    "                text = re.sub(\"[^a-zA-Z]\", \" \", text)\n",
    "                text = text.lower().split()\n",
    "                text = [w for w in text if not w in stops]\n",
    "                text = \" \".join(text)\n",
    "    return text            "
   ]
  },
  {
   "cell_type": "markdown",
   "metadata": {},
   "source": [
    "## Importing Commitment and Contigencies Tags"
   ]
  },
  {
   "cell_type": "code",
   "execution_count": 3,
   "metadata": {
    "collapsed": true
   },
   "outputs": [],
   "source": [
    "tags = ['CommitmentsAndContingenciesDisclosure', 'ContingenciesDisclosure','CommitmentsDisclosure']"
   ]
  },
  {
   "cell_type": "code",
   "execution_count": 4,
   "metadata": {},
   "outputs": [
    {
     "name": "stderr",
     "output_type": "stream",
     "text": [
      "Processing: 100%|██████████| 100/100 [00:09<00:00, 10.49it/s]\n"
     ]
    }
   ],
   "source": [
    "data['Comitiment'] = data['file'].progress_apply(xbrl_tag,path=path,tags=tags)"
   ]
  },
  {
   "cell_type": "code",
   "execution_count": 5,
   "metadata": {},
   "outputs": [
    {
     "name": "stdout",
     "output_type": "stream",
     "text": [
      "26  companies don't use this tag\n"
     ]
    }
   ],
   "source": [
    "# Show how many companies dont used this tags\n",
    "print(data['Company'][data['Comitiment'].apply(len) == 0].count(), ' companies don\\'t use this tag')"
   ]
  },
  {
   "cell_type": "markdown",
   "metadata": {},
   "source": [
    "##  Importing Income Tax Disclosure"
   ]
  },
  {
   "cell_type": "code",
   "execution_count": 6,
   "metadata": {},
   "outputs": [
    {
     "name": "stderr",
     "output_type": "stream",
     "text": [
      "Processing: 100%|██████████| 100/100 [00:10<00:00,  9.13it/s]\n"
     ]
    }
   ],
   "source": [
    "tags = ['IncomeTaxDisclosure']\n",
    "data['Income_Tax'] = data['file'].progress_apply(xbrl_tag,path=path,tags=tags)"
   ]
  },
  {
   "cell_type": "code",
   "execution_count": 7,
   "metadata": {},
   "outputs": [
    {
     "name": "stdout",
     "output_type": "stream",
     "text": [
      "6  companies don't use this tag\n"
     ]
    }
   ],
   "source": [
    "print(data['Company'][data['Income_Tax'].apply(len) == 0].count(), ' companies don\\'t use this tag')"
   ]
  },
  {
   "cell_type": "code",
   "execution_count": 8,
   "metadata": {},
   "outputs": [
    {
     "data": {
      "text/plain": [
       "'commitments contingencieslegal proceedingssysco engaged various legal proceedings arisen fully adjudicated likelihood loss legal proceedings based definitions within contingency accounting literature ranges remote reasonably possible probable probable reasonably estimable losses accrued based estimates range potential losses associated matters management believe ultimate resolution proceedings either individually aggregate material adverse effect upon consolidated financial position results operations company however final results legal proceedings cannot predicted certainty company failed prevail one legal matters associated realized losses exceed company current estimates range potential losses company consolidated financial position results operations could materially adversely affected future periods commitmentssysco committed aggregate product purchases resale order benefit centralized approach purchasing majority agreements expire within one year however certain agreements terms fiscal agreements commit company minimum volume various pricing terms including fixed pricing variable pricing combination thereof minimum amounts committed july totaled approximately billion minimum amounts committed year follows amount thousands sysco contracts various third party service providers receive information technology services services committed periods fiscal may extended july total remaining cost services period expected approximately million portion committed amount may reduced sysco utilizing less estimated resources increased sysco utilizing estimated resources certain agreements allow adjustments inflation sysco may also cancel portion services provided subject termination fees decrease time sysco terminate services fiscal estimated termination fees incurred fiscal would approximately million'"
      ]
     },
     "execution_count": 8,
     "metadata": {},
     "output_type": "execute_result"
    }
   ],
   "source": [
    "#Preview how the text look\n",
    "data['Comitiment'][3]"
   ]
  },
  {
   "cell_type": "code",
   "execution_count": 9,
   "metadata": {
    "collapsed": true
   },
   "outputs": [],
   "source": [
    "#Lets create a checkpoint for start here next time\n",
    "data.to_json('./data/10k-xbrl.json')"
   ]
  },
  {
   "cell_type": "markdown",
   "metadata": {},
   "source": [
    "# Dealing with the text\n",
    "\n",
    "Now we can analize the text"
   ]
  },
  {
   "cell_type": "code",
   "execution_count": 1,
   "metadata": {
    "collapsed": true
   },
   "outputs": [],
   "source": [
    "#importing libraries\n",
    "import pandas as pd\n",
    "from tqdm import tqdm\n",
    "tqdm.pandas(desc=\"Processing\")\n",
    "\n",
    "#Loading the data\n",
    "data = pd.read_json('./data/10k-xbrl.json')"
   ]
  },
  {
   "cell_type": "code",
   "execution_count": 2,
   "metadata": {
    "collapsed": true
   },
   "outputs": [],
   "source": [
    "from nltk.stem.porter import PorterStemmer\n",
    "stemmer = PorterStemmer()"
   ]
  },
  {
   "cell_type": "code",
   "execution_count": 4,
   "metadata": {},
   "outputs": [],
   "source": [
    "#Negative words\n",
    "neg_stemmed = []\n",
    "url_neg = 'https://raw.githubusercontent.com/jeffreybreen/twitter-sentiment-analysis-tutorial-201107/08a269765a6b185d5f3dd522c876043ba9628715/data/opinion-lexicon-English/negative-words.txt'\n",
    "neg_words = pd.read_fwf(url_neg,encoding='latin-1',skiprows=34,header=None, \n",
    "                       names=['negatives'])\n",
    "\n",
    "for word in neg_words['negatives']:\n",
    "    neg_stemmed.append(stemmer.stem(word))\n",
    "\n",
    "neg_stemmed = set(neg_stemmed)"
   ]
  },
  {
   "cell_type": "code",
   "execution_count": 5,
   "metadata": {
    "collapsed": true
   },
   "outputs": [],
   "source": [
    "def word_count(data):\n",
    "    return len(data.split())"
   ]
  },
  {
   "cell_type": "code",
   "execution_count": 44,
   "metadata": {},
   "outputs": [],
   "source": [
    "def negative_count (data):\n",
    "    corpus = (\" \".join([stemmer.stem(word) \\\n",
    "                                   for word in data.split()])) \n",
    "    return len([word for word in corpus.split() if word in neg_stemmed])"
   ]
  },
  {
   "cell_type": "code",
   "execution_count": 49,
   "metadata": {},
   "outputs": [],
   "source": [
    "#Creating a new collum for the Commitiment word count \n",
    "data['Comitiment word count'] = data['Comitiment'].apply(word_count)\n",
    "#Creating a new collum for the Commitiment Negative word count\n",
    "data['Comitiment Negative words'] = data['Comitiment'].apply(negative_count)"
   ]
  },
  {
   "cell_type": "code",
   "execution_count": 50,
   "metadata": {},
   "outputs": [
    {
     "data": {
      "text/html": [
       "<div>\n",
       "<style>\n",
       "    .dataframe thead tr:only-child th {\n",
       "        text-align: right;\n",
       "    }\n",
       "\n",
       "    .dataframe thead th {\n",
       "        text-align: left;\n",
       "    }\n",
       "\n",
       "    .dataframe tbody tr th {\n",
       "        vertical-align: top;\n",
       "    }\n",
       "</style>\n",
       "<table border=\"1\" class=\"dataframe\">\n",
       "  <thead>\n",
       "    <tr style=\"text-align: right;\">\n",
       "      <th></th>\n",
       "      <th>Comitiment</th>\n",
       "      <th>Company</th>\n",
       "      <th>Income_Tax</th>\n",
       "      <th>file</th>\n",
       "      <th>url</th>\n",
       "      <th>Comitiment word count</th>\n",
       "      <th>Comitiment Negative words</th>\n",
       "    </tr>\n",
       "  </thead>\n",
       "  <tbody>\n",
       "    <tr>\n",
       "      <th>12</th>\n",
       "      <td>commitments contingencies</td>\n",
       "      <td>AEHR TEST SYSTEMS</td>\n",
       "      <td>income taxes</td>\n",
       "      <td>aehr-20170531.xml</td>\n",
       "      <td>http://www.sec.gov/Archives/edgar/data/1040470...</td>\n",
       "      <td>2</td>\n",
       "      <td>0</td>\n",
       "    </tr>\n",
       "    <tr>\n",
       "      <th>75</th>\n",
       "      <td>commitments contingencieslegal matters various...</td>\n",
       "      <td>KENNAMETAL INC</td>\n",
       "      <td>income taxesincome loss income taxes consisted...</td>\n",
       "      <td>kmt-20170630.xml</td>\n",
       "      <td>http://www.sec.gov/Archives/edgar/data/55242/0...</td>\n",
       "      <td>119</td>\n",
       "      <td>6</td>\n",
       "    </tr>\n",
       "    <tr>\n",
       "      <th>44</th>\n",
       "      <td>note commitments contingencies operating lease...</td>\n",
       "      <td>SANFILIPPO JOHN B &amp; SON INC</td>\n",
       "      <td>note income taxes provision income taxes based...</td>\n",
       "      <td>jbss-20170629.xml</td>\n",
       "      <td>http://www.sec.gov/Archives/edgar/data/880117/...</td>\n",
       "      <td>155</td>\n",
       "      <td>11</td>\n",
       "    </tr>\n",
       "    <tr>\n",
       "      <th>0</th>\n",
       "      <td></td>\n",
       "      <td>INFINITY DISTRIBUTION INC.</td>\n",
       "      <td>note income taxes</td>\n",
       "      <td>cik1646916-20170531.xml</td>\n",
       "      <td>http://www.sec.gov/Archives/edgar/data/1646916...</td>\n",
       "      <td>0</td>\n",
       "      <td>0</td>\n",
       "    </tr>\n",
       "    <tr>\n",
       "      <th>77</th>\n",
       "      <td>commitments contingencies legal proceedingsthe...</td>\n",
       "      <td>MAXIM INTEGRATED PRODUCTS INC</td>\n",
       "      <td>income taxespretax income loss follows year en...</td>\n",
       "      <td>mxim-20170624.xml</td>\n",
       "      <td>http://www.sec.gov/Archives/edgar/data/743316/...</td>\n",
       "      <td>328</td>\n",
       "      <td>25</td>\n",
       "    </tr>\n",
       "    <tr>\n",
       "      <th>47</th>\n",
       "      <td>commitments contingencieslegal mattersthe comp...</td>\n",
       "      <td>COTY INC.</td>\n",
       "      <td>income taxes loss income operations income tax...</td>\n",
       "      <td>coty-20170630.xml</td>\n",
       "      <td>http://www.sec.gov/Archives/edgar/data/1024305...</td>\n",
       "      <td>224</td>\n",
       "      <td>9</td>\n",
       "    </tr>\n",
       "    <tr>\n",
       "      <th>37</th>\n",
       "      <td>commitments contingenciesoperating leasesthe c...</td>\n",
       "      <td>Cardiovascular Systems Inc</td>\n",
       "      <td>income taxesthe components company overall def...</td>\n",
       "      <td>csii-20170630.xml</td>\n",
       "      <td>http://www.sec.gov/Archives/edgar/data/1180145...</td>\n",
       "      <td>630</td>\n",
       "      <td>89</td>\n",
       "    </tr>\n",
       "    <tr>\n",
       "      <th>97</th>\n",
       "      <td></td>\n",
       "      <td>VIEW SYSTEMS INC</td>\n",
       "      <td>income taxes income tax purposes company net o...</td>\n",
       "      <td>vsym-20161231.xml</td>\n",
       "      <td>http://www.sec.gov/Archives/edgar/data/1075857...</td>\n",
       "      <td>0</td>\n",
       "      <td>0</td>\n",
       "    </tr>\n",
       "    <tr>\n",
       "      <th>65</th>\n",
       "      <td>june future cash payments required contracts e...</td>\n",
       "      <td>MSG NETWORKS INC.</td>\n",
       "      <td>income taxesincome tax expense attributable co...</td>\n",
       "      <td>msgn-20170630.xml</td>\n",
       "      <td>http://www.sec.gov/Archives/edgar/data/1469372...</td>\n",
       "      <td>52</td>\n",
       "      <td>0</td>\n",
       "    </tr>\n",
       "    <tr>\n",
       "      <th>3</th>\n",
       "      <td>commitments contingencieslegal proceedingssysc...</td>\n",
       "      <td>SYSCO CORP</td>\n",
       "      <td>income taxesincome tax provisionsfor financial...</td>\n",
       "      <td>syy-20170701.xml</td>\n",
       "      <td>http://www.sec.gov/Archives/edgar/data/96021/0...</td>\n",
       "      <td>212</td>\n",
       "      <td>11</td>\n",
       "    </tr>\n",
       "  </tbody>\n",
       "</table>\n",
       "</div>"
      ],
      "text/plain": [
       "                                           Comitiment  \\\n",
       "12                          commitments contingencies   \n",
       "75  commitments contingencieslegal matters various...   \n",
       "44  note commitments contingencies operating lease...   \n",
       "0                                                       \n",
       "77  commitments contingencies legal proceedingsthe...   \n",
       "47  commitments contingencieslegal mattersthe comp...   \n",
       "37  commitments contingenciesoperating leasesthe c...   \n",
       "97                                                      \n",
       "65  june future cash payments required contracts e...   \n",
       "3   commitments contingencieslegal proceedingssysc...   \n",
       "\n",
       "                          Company  \\\n",
       "12              AEHR TEST SYSTEMS   \n",
       "75                 KENNAMETAL INC   \n",
       "44    SANFILIPPO JOHN B & SON INC   \n",
       "0      INFINITY DISTRIBUTION INC.   \n",
       "77  MAXIM INTEGRATED PRODUCTS INC   \n",
       "47                      COTY INC.   \n",
       "37     Cardiovascular Systems Inc   \n",
       "97               VIEW SYSTEMS INC   \n",
       "65              MSG NETWORKS INC.   \n",
       "3                      SYSCO CORP   \n",
       "\n",
       "                                           Income_Tax  \\\n",
       "12                                       income taxes   \n",
       "75  income taxesincome loss income taxes consisted...   \n",
       "44  note income taxes provision income taxes based...   \n",
       "0                                   note income taxes   \n",
       "77  income taxespretax income loss follows year en...   \n",
       "47  income taxes loss income operations income tax...   \n",
       "37  income taxesthe components company overall def...   \n",
       "97  income taxes income tax purposes company net o...   \n",
       "65  income taxesincome tax expense attributable co...   \n",
       "3   income taxesincome tax provisionsfor financial...   \n",
       "\n",
       "                       file  \\\n",
       "12        aehr-20170531.xml   \n",
       "75         kmt-20170630.xml   \n",
       "44        jbss-20170629.xml   \n",
       "0   cik1646916-20170531.xml   \n",
       "77        mxim-20170624.xml   \n",
       "47        coty-20170630.xml   \n",
       "37        csii-20170630.xml   \n",
       "97        vsym-20161231.xml   \n",
       "65        msgn-20170630.xml   \n",
       "3          syy-20170701.xml   \n",
       "\n",
       "                                                  url  Comitiment word count  \\\n",
       "12  http://www.sec.gov/Archives/edgar/data/1040470...                      2   \n",
       "75  http://www.sec.gov/Archives/edgar/data/55242/0...                    119   \n",
       "44  http://www.sec.gov/Archives/edgar/data/880117/...                    155   \n",
       "0   http://www.sec.gov/Archives/edgar/data/1646916...                      0   \n",
       "77  http://www.sec.gov/Archives/edgar/data/743316/...                    328   \n",
       "47  http://www.sec.gov/Archives/edgar/data/1024305...                    224   \n",
       "37  http://www.sec.gov/Archives/edgar/data/1180145...                    630   \n",
       "97  http://www.sec.gov/Archives/edgar/data/1075857...                      0   \n",
       "65  http://www.sec.gov/Archives/edgar/data/1469372...                     52   \n",
       "3   http://www.sec.gov/Archives/edgar/data/96021/0...                    212   \n",
       "\n",
       "    Comitiment Negative words  \n",
       "12                          0  \n",
       "75                          6  \n",
       "44                         11  \n",
       "0                           0  \n",
       "77                         25  \n",
       "47                          9  \n",
       "37                         89  \n",
       "97                          0  \n",
       "65                          0  \n",
       "3                          11  "
      ]
     },
     "execution_count": 50,
     "metadata": {},
     "output_type": "execute_result"
    }
   ],
   "source": [
    "data.sample(10)"
   ]
  },
  {
   "cell_type": "code",
   "execution_count": null,
   "metadata": {
    "collapsed": true
   },
   "outputs": [],
   "source": []
  }
 ],
 "metadata": {
  "kernelspec": {
   "display_name": "Python 3",
   "language": "python",
   "name": "python3"
  },
  "language_info": {
   "codemirror_mode": {
    "name": "ipython",
    "version": 3
   },
   "file_extension": ".py",
   "mimetype": "text/x-python",
   "name": "python",
   "nbconvert_exporter": "python",
   "pygments_lexer": "ipython3",
   "version": "3.6.2"
  },
  "toc": {
   "colors": {
    "hover_highlight": "#DAA520",
    "navigate_num": "#000000",
    "navigate_text": "#333333",
    "running_highlight": "#FF0000",
    "selected_highlight": "#FFD700",
    "sidebar_border": "#EEEEEE",
    "wrapper_background": "#FFFFFF"
   },
   "moveMenuLeft": true,
   "nav_menu": {
    "height": "48px",
    "width": "252px"
   },
   "navigate_menu": true,
   "number_sections": true,
   "sideBar": true,
   "threshold": 4,
   "toc_cell": false,
   "toc_section_display": "block",
   "toc_window_display": false,
   "widenNotebook": false
  }
 },
 "nbformat": 4,
 "nbformat_minor": 2
}
