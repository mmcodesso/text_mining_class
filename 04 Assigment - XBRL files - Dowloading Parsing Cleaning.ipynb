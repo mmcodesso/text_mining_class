{
 "cells": [
  {
   "cell_type": "markdown",
   "metadata": {},
   "source": [
    "# Assigment 04 \n",
    "\n",
    "In this Assigment, we are going to download XBRL files and extract some partes of the files.\n",
    "We will create a funciontion to download the files and save into a especific folder.\n",
    "\n",
    "The urls from the files are into a xml files, so we need to parse, find the right tags to get the links\n",
    "\n",
    "In this assigment, insted of saving all files into memory, we will save into disk, extract only the parts we need than save into a dataframe."
   ]
  },
  {
   "cell_type": "code",
   "execution_count": 49,
   "metadata": {
    "collapsed": true
   },
   "outputs": [],
   "source": [
    "#Importing dependencies\n",
    "import xml.etree.ElementTree as ET\n",
    "import pandas as pd\n",
    "from tqdm import tqdm\n",
    "tqdm.pandas(desc=\"Processing\")"
   ]
  },
  {
   "cell_type": "code",
   "execution_count": 2,
   "metadata": {
    "collapsed": true
   },
   "outputs": [],
   "source": [
    "#This function will download the files and save into disk\n",
    "def download_file(url, path='./'):\n",
    "    import urllib.request\n",
    "    import shutil\n",
    "    \n",
    "    file_name = path + url.split('/')[-1]\n",
    "\n",
    "    # Download the file from `url` and save it locally under `file_name`:\n",
    "    with urllib.request.urlopen(url) as response, open(file_name, 'wb') as out_file:\n",
    "        shutil.copyfileobj(response, out_file)"
   ]
  },
  {
   "cell_type": "code",
   "execution_count": 3,
   "metadata": {
    "collapsed": true
   },
   "outputs": [],
   "source": [
    "#Path where files will saved\n",
    "path ='./data/raw/xbrl/'"
   ]
  },
  {
   "cell_type": "markdown",
   "metadata": {},
   "source": [
    "We can get the list of the files in https://www.sec.gov/structureddata/rss-feeds-submitted-filings"
   ]
  },
  {
   "cell_type": "code",
   "execution_count": 4,
   "metadata": {
    "collapsed": true
   },
   "outputs": [],
   "source": [
    "url = 'https://www.sec.gov/Archives/edgar/monthly/xbrlrss-2017-08.xml'"
   ]
  },
  {
   "cell_type": "code",
   "execution_count": 5,
   "metadata": {
    "collapsed": true
   },
   "outputs": [],
   "source": [
    "download_file(url,path=path)"
   ]
  },
  {
   "cell_type": "markdown",
   "metadata": {},
   "source": [
    "Now we've downloaded the index files, let's parse and get the urls to download the xbrl files"
   ]
  },
  {
   "cell_type": "code",
   "execution_count": 6,
   "metadata": {
    "collapsed": true
   },
   "outputs": [],
   "source": [
    "#Creating variables to store the data.\n",
    "companies = []\n",
    "urls = []\n",
    "file = []\n",
    "\n",
    "#Open the xml file to parse and find the url for the xbrl files\n",
    "xmlfile = path + url.split('/')[-1]\n",
    "tree = ET.parse(xmlfile)\n",
    "root = tree.getroot()\n",
    "item = root.findall('channel/item')\n",
    "\n",
    "#The for loop will parse the xml file to find the link to the xbrl files we need\n",
    "for entry in item:   \n",
    "    \n",
    "    desc = entry.findtext('description')  \n",
    "    \n",
    "    if desc == '10-K':\n",
    "        companyName = ''\n",
    "        xbrlurl = ''\n",
    "        for item in entry.iter():\n",
    "\n",
    "            if item.tag == '{http://www.sec.gov/Archives/edgar}companyName':\n",
    "                companyName = item.text\n",
    "                \n",
    "            if item.tag =='{http://www.sec.gov/Archives/edgar}xbrlFiles':\n",
    "                for ite  in item:\n",
    "                    if ite.attrib['{http://www.sec.gov/Archives/edgar}description'] == 'XBRL INSTANCE DOCUMENT':\n",
    "                        xbrlurl = ite.attrib['{http://www.sec.gov/Archives/edgar}url']\n",
    "        \n",
    "        #Some companies dont have the xbrl file we are going to use\n",
    "        if  xbrlurl != '': \n",
    "            companies.append(companyName)  \n",
    "            urls.append(xbrlurl)\n",
    "            file.append(xbrlurl.split('/')[-1])"
   ]
  },
  {
   "cell_type": "code",
   "execution_count": 7,
   "metadata": {
    "collapsed": true
   },
   "outputs": [],
   "source": [
    "#Creating a Dataframe to easely manipulate the data\n",
    "data = pd.DataFrame(data ={'Company': companies,\n",
    "                           'url': urls,\n",
    "                           'file': file})"
   ]
  },
  {
   "cell_type": "code",
   "execution_count": 8,
   "metadata": {
    "collapsed": true
   },
   "outputs": [],
   "source": [
    "#Creating a sample of 100 documents\n",
    "data = data.sample(100, random_state=42 )"
   ]
  },
  {
   "cell_type": "code",
   "execution_count": 9,
   "metadata": {},
   "outputs": [
    {
     "name": "stderr",
     "output_type": "stream",
     "text": [
      "Processing: 100%|██████████| 100/100 [01:07<00:00,  1.65it/s]\n"
     ]
    }
   ],
   "source": [
    "download = data['url'].progress_apply(download_file, path= path)"
   ]
  },
  {
   "cell_type": "code",
   "execution_count": 10,
   "metadata": {
    "collapsed": true
   },
   "outputs": [],
   "source": [
    "#Lets create a checkpoint for start here next time\n",
    "data.to_json('./data/10k-xbrl.json')"
   ]
  },
  {
   "cell_type": "markdown",
   "metadata": {},
   "source": [
    "# Parsing XBRL files\n",
    "\n",
    "Now that we have all files, we need to find only the tags we need"
   ]
  },
  {
   "cell_type": "code",
   "execution_count": 1,
   "metadata": {},
   "outputs": [],
   "source": [
    "#importing libraries\n",
    "import pandas as pd\n",
    "from tqdm import tqdm\n",
    "tqdm.pandas(desc=\"Processing\")\n",
    "\n",
    "#Loading the data\n",
    "data = pd.read_json('./data/10k-xbrl.json')\n",
    "\n",
    "#Path where files will saved\n",
    "path ='./data/raw/xbrl/'"
   ]
  },
  {
   "cell_type": "code",
   "execution_count": 2,
   "metadata": {
    "collapsed": true
   },
   "outputs": [],
   "source": [
    "def xbrl_tag(xbrlfile,path= './',tags=[]):\n",
    "    import xml.etree.ElementTree as ET\n",
    "    from bs4 import BeautifulSoup\n",
    "    import unidecode\n",
    "    import re\n",
    "    from nltk.corpus import stopwords\n",
    "\n",
    "    stops = set(stopwords.words(\"english\"))\n",
    "    \n",
    "    text = ''\n",
    "    xbrlfile = path + xbrlfile\n",
    "    tree = ET.parse(xbrlfile)\n",
    "    root = tree.getroot()\n",
    "    \n",
    "    for item in root.findall('.//'):\n",
    "        #Only will get the tag we need\n",
    "        for tag in tags:\n",
    "            if item.tag.find(tag) >= 0:          \n",
    "                text = BeautifulSoup(item.text,\"lxml-xml\",).get_text()\n",
    "                text = unidecode.unidecode(text)\n",
    "                text = re.sub('\\s', ' ',text) \n",
    "                text = re.sub(\"[^a-zA-Z]\", \" \", text)\n",
    "                text = text.lower().split()\n",
    "                text = [w for w in text if not w in stops]\n",
    "                text = \" \".join(text)\n",
    "    return text            "
   ]
  },
  {
   "cell_type": "markdown",
   "metadata": {},
   "source": [
    "## Importing Commitment and Contigencies Tags"
   ]
  },
  {
   "cell_type": "code",
   "execution_count": 3,
   "metadata": {
    "collapsed": true
   },
   "outputs": [],
   "source": [
    "tags = ['CommitmentsAndContingenciesDisclosure', 'ContingenciesDisclosure','CommitmentsDisclosure']"
   ]
  },
  {
   "cell_type": "code",
   "execution_count": 4,
   "metadata": {},
   "outputs": [
    {
     "name": "stderr",
     "output_type": "stream",
     "text": [
      "Processing: 100%|██████████| 100/100 [00:09<00:00, 10.49it/s]\n"
     ]
    }
   ],
   "source": [
    "data['Comitiment'] = data['file'].progress_apply(xbrl_tag,path=path,tags=tags)"
   ]
  },
  {
   "cell_type": "code",
   "execution_count": 5,
   "metadata": {},
   "outputs": [
    {
     "name": "stdout",
     "output_type": "stream",
     "text": [
      "26  companies don't use this tag\n"
     ]
    }
   ],
   "source": [
    "# Show how many companies dont used this tags\n",
    "print(data['Company'][data['Comitiment'].apply(len) == 0].count(), ' companies don\\'t use this tag')"
   ]
  },
  {
   "cell_type": "markdown",
   "metadata": {},
   "source": [
    "##  Importing Income Tax Disclosure"
   ]
  },
  {
   "cell_type": "code",
   "execution_count": 6,
   "metadata": {},
   "outputs": [
    {
     "name": "stderr",
     "output_type": "stream",
     "text": [
      "Processing: 100%|██████████| 100/100 [00:10<00:00,  9.13it/s]\n"
     ]
    }
   ],
   "source": [
    "tags = ['IncomeTaxDisclosure']\n",
    "data['Income_Tax'] = data['file'].progress_apply(xbrl_tag,path=path,tags=tags)"
   ]
  },
  {
   "cell_type": "code",
   "execution_count": 7,
   "metadata": {},
   "outputs": [
    {
     "name": "stdout",
     "output_type": "stream",
     "text": [
      "6  companies don't use this tag\n"
     ]
    }
   ],
   "source": [
    "print(data['Company'][data['Income_Tax'].apply(len) == 0].count(), ' companies don\\'t use this tag')"
   ]
  },
  {
   "cell_type": "code",
   "execution_count": 8,
   "metadata": {},
   "outputs": [
    {
     "data": {
      "text/plain": [
       "'commitments contingencieslegal proceedingssysco engaged various legal proceedings arisen fully adjudicated likelihood loss legal proceedings based definitions within contingency accounting literature ranges remote reasonably possible probable probable reasonably estimable losses accrued based estimates range potential losses associated matters management believe ultimate resolution proceedings either individually aggregate material adverse effect upon consolidated financial position results operations company however final results legal proceedings cannot predicted certainty company failed prevail one legal matters associated realized losses exceed company current estimates range potential losses company consolidated financial position results operations could materially adversely affected future periods commitmentssysco committed aggregate product purchases resale order benefit centralized approach purchasing majority agreements expire within one year however certain agreements terms fiscal agreements commit company minimum volume various pricing terms including fixed pricing variable pricing combination thereof minimum amounts committed july totaled approximately billion minimum amounts committed year follows amount thousands sysco contracts various third party service providers receive information technology services services committed periods fiscal may extended july total remaining cost services period expected approximately million portion committed amount may reduced sysco utilizing less estimated resources increased sysco utilizing estimated resources certain agreements allow adjustments inflation sysco may also cancel portion services provided subject termination fees decrease time sysco terminate services fiscal estimated termination fees incurred fiscal would approximately million'"
      ]
     },
     "execution_count": 8,
     "metadata": {},
     "output_type": "execute_result"
    }
   ],
   "source": [
    "#Preview how the text look\n",
    "data['Comitiment'][3]"
   ]
  },
  {
   "cell_type": "code",
   "execution_count": 9,
   "metadata": {
    "collapsed": true
   },
   "outputs": [],
   "source": [
    "#Lets create a checkpoint for start here next time\n",
    "data.to_json('./data/10k-xbrl.json')"
   ]
  },
  {
   "cell_type": "markdown",
   "metadata": {},
   "source": [
    "# Dealing with the text\n",
    "\n",
    "Now we can analize the text"
   ]
  },
  {
   "cell_type": "code",
   "execution_count": 1,
   "metadata": {
    "collapsed": true
   },
   "outputs": [],
   "source": [
    "#importing libraries\n",
    "import pandas as pd\n",
    "from tqdm import tqdm\n",
    "tqdm.pandas(desc=\"Processing\")\n",
    "\n",
    "#Loading the data\n",
    "data = pd.read_json('./data/10k-xbrl.json')"
   ]
  },
  {
   "cell_type": "code",
   "execution_count": 2,
   "metadata": {},
   "outputs": [
    {
     "data": {
      "text/html": [
       "<div>\n",
       "<style>\n",
       "    .dataframe thead tr:only-child th {\n",
       "        text-align: right;\n",
       "    }\n",
       "\n",
       "    .dataframe thead th {\n",
       "        text-align: left;\n",
       "    }\n",
       "\n",
       "    .dataframe tbody tr th {\n",
       "        vertical-align: top;\n",
       "    }\n",
       "</style>\n",
       "<table border=\"1\" class=\"dataframe\">\n",
       "  <thead>\n",
       "    <tr style=\"text-align: right;\">\n",
       "      <th></th>\n",
       "      <th>Comitiment</th>\n",
       "      <th>Company</th>\n",
       "      <th>Income_Tax</th>\n",
       "      <th>file</th>\n",
       "      <th>url</th>\n",
       "    </tr>\n",
       "  </thead>\n",
       "  <tbody>\n",
       "    <tr>\n",
       "      <th>0</th>\n",
       "      <td></td>\n",
       "      <td>INFINITY DISTRIBUTION INC.</td>\n",
       "      <td>note income taxes</td>\n",
       "      <td>cik1646916-20170531.xml</td>\n",
       "      <td>http://www.sec.gov/Archives/edgar/data/1646916...</td>\n",
       "    </tr>\n",
       "    <tr>\n",
       "      <th>1</th>\n",
       "      <td>commitments contingencies described summarized...</td>\n",
       "      <td>AYTU BIOSCIENCE, INC</td>\n",
       "      <td>note income taxes previously discussed note su...</td>\n",
       "      <td>aytu-20170630.xml</td>\n",
       "      <td>http://www.sec.gov/Archives/edgar/data/1385818...</td>\n",
       "    </tr>\n",
       "    <tr>\n",
       "      <th>10</th>\n",
       "      <td>commitments contingenciesleasesthe company lea...</td>\n",
       "      <td>SCANSOURCE, INC.</td>\n",
       "      <td>income taxesincome tax expense benefit consist...</td>\n",
       "      <td>scsc-20170630.xml</td>\n",
       "      <td>http://www.sec.gov/Archives/edgar/data/918965/...</td>\n",
       "    </tr>\n",
       "    <tr>\n",
       "      <th>100</th>\n",
       "      <td></td>\n",
       "      <td>VIEW SYSTEMS INC</td>\n",
       "      <td>income taxes income tax purposes company net o...</td>\n",
       "      <td>vsym-20151231.xml</td>\n",
       "      <td>http://www.sec.gov/Archives/edgar/data/1075857...</td>\n",
       "    </tr>\n",
       "    <tr>\n",
       "      <th>101</th>\n",
       "      <td></td>\n",
       "      <td>Toga Ltd</td>\n",
       "      <td>note income taxes</td>\n",
       "      <td>togl-20160731.xml</td>\n",
       "      <td>http://www.sec.gov/Archives/edgar/data/1378125...</td>\n",
       "    </tr>\n",
       "  </tbody>\n",
       "</table>\n",
       "</div>"
      ],
      "text/plain": [
       "                                            Comitiment  \\\n",
       "0                                                        \n",
       "1    commitments contingencies described summarized...   \n",
       "10   commitments contingenciesleasesthe company lea...   \n",
       "100                                                      \n",
       "101                                                      \n",
       "\n",
       "                        Company  \\\n",
       "0    INFINITY DISTRIBUTION INC.   \n",
       "1          AYTU BIOSCIENCE, INC   \n",
       "10             SCANSOURCE, INC.   \n",
       "100            VIEW SYSTEMS INC   \n",
       "101                    Toga Ltd   \n",
       "\n",
       "                                            Income_Tax  \\\n",
       "0                                    note income taxes   \n",
       "1    note income taxes previously discussed note su...   \n",
       "10   income taxesincome tax expense benefit consist...   \n",
       "100  income taxes income tax purposes company net o...   \n",
       "101                                  note income taxes   \n",
       "\n",
       "                        file  \\\n",
       "0    cik1646916-20170531.xml   \n",
       "1          aytu-20170630.xml   \n",
       "10         scsc-20170630.xml   \n",
       "100        vsym-20151231.xml   \n",
       "101        togl-20160731.xml   \n",
       "\n",
       "                                                   url  \n",
       "0    http://www.sec.gov/Archives/edgar/data/1646916...  \n",
       "1    http://www.sec.gov/Archives/edgar/data/1385818...  \n",
       "10   http://www.sec.gov/Archives/edgar/data/918965/...  \n",
       "100  http://www.sec.gov/Archives/edgar/data/1075857...  \n",
       "101  http://www.sec.gov/Archives/edgar/data/1378125...  "
      ]
     },
     "execution_count": 2,
     "metadata": {},
     "output_type": "execute_result"
    }
   ],
   "source": [
    "data.head()"
   ]
  },
  {
   "cell_type": "code",
   "execution_count": null,
   "metadata": {
    "collapsed": true
   },
   "outputs": [],
   "source": []
  }
 ],
 "metadata": {
  "kernelspec": {
   "display_name": "Python 3",
   "language": "python",
   "name": "python3"
  },
  "language_info": {
   "codemirror_mode": {
    "name": "ipython",
    "version": 3
   },
   "file_extension": ".py",
   "mimetype": "text/x-python",
   "name": "python",
   "nbconvert_exporter": "python",
   "pygments_lexer": "ipython3",
   "version": "3.6.2"
  },
  "toc": {
   "colors": {
    "hover_highlight": "#DAA520",
    "navigate_num": "#000000",
    "navigate_text": "#333333",
    "running_highlight": "#FF0000",
    "selected_highlight": "#FFD700",
    "sidebar_border": "#EEEEEE",
    "wrapper_background": "#FFFFFF"
   },
   "moveMenuLeft": true,
   "nav_menu": {
    "height": "48px",
    "width": "252px"
   },
   "navigate_menu": true,
   "number_sections": true,
   "sideBar": true,
   "threshold": 4,
   "toc_cell": false,
   "toc_section_display": "block",
   "toc_window_display": false,
   "widenNotebook": false
  }
 },
 "nbformat": 4,
 "nbformat_minor": 2
}
