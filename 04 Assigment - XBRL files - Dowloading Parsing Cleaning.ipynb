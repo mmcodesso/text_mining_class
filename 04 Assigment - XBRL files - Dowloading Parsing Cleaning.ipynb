{
 "cells": [
  {
   "cell_type": "markdown",
   "metadata": {},
   "source": [
    "# Assigment 04 \n",
    "\n",
    "In this Assigment, we are going to download XBRL files and extract some partes of the files.\n",
    "We will create a funciontion to download the files and save into a especific folder.\n",
    "\n",
    "The urls from the files are into a xml files, so we need to parse, find the right tags to get the links\n",
    "\n",
    "In this assigment, insted of saving all files into memory, we will save into disk, extract only the parts we need than save into a dataframe."
   ]
  },
  {
   "cell_type": "code",
   "execution_count": 1,
   "metadata": {
    "collapsed": true
   },
   "outputs": [],
   "source": [
    "#Importing dependencies\n",
    "import xml.etree.ElementTree as ET\n",
    "import pandas as pd\n",
    "from tqdm import tqdm\n",
    "tqdm.pandas(desc=\"Processing\")"
   ]
  },
  {
   "cell_type": "code",
   "execution_count": 2,
   "metadata": {
    "collapsed": true
   },
   "outputs": [],
   "source": [
    "#This function will download the files and save into disk\n",
    "def download_file(url, path='./'):\n",
    "    import urllib.request\n",
    "    import shutil\n",
    "    \n",
    "    file_name = path + url.split('/')[-1]\n",
    "\n",
    "    # Download the file from `url` and save it locally under `file_name`:\n",
    "    with urllib.request.urlopen(url) as response, open(file_name, 'wb') as out_file:\n",
    "        shutil.copyfileobj(response, out_file)"
   ]
  },
  {
   "cell_type": "code",
   "execution_count": 3,
   "metadata": {
    "collapsed": true
   },
   "outputs": [],
   "source": [
    "#Path where files will saved\n",
    "path ='./data/raw/xbrl/'"
   ]
  },
  {
   "cell_type": "markdown",
   "metadata": {},
   "source": [
    "We can get the list of the files in https://www.sec.gov/structureddata/rss-feeds-submitted-filings"
   ]
  },
  {
   "cell_type": "code",
   "execution_count": 4,
   "metadata": {
    "collapsed": true
   },
   "outputs": [],
   "source": [
    "url = 'https://www.sec.gov/Archives/edgar/monthly/xbrlrss-2017-08.xml'"
   ]
  },
  {
   "cell_type": "code",
   "execution_count": 5,
   "metadata": {
    "collapsed": true
   },
   "outputs": [],
   "source": [
    "download_file(url,path=path)"
   ]
  },
  {
   "cell_type": "markdown",
   "metadata": {},
   "source": [
    "Now we've downloaded the index files, let's parse and get the urls to download the xbrl files"
   ]
  },
  {
   "cell_type": "code",
   "execution_count": 6,
   "metadata": {},
   "outputs": [],
   "source": [
    "#Creating variables to store the data.\n",
    "companies = []\n",
    "urls = []\n",
    "file = []\n",
    "\n",
    "#Open the xml file to parse and find the url for the xbrl files\n",
    "xmlfile = path + url.split('/')[-1]\n",
    "tree = ET.parse(xmlfile)\n",
    "root = tree.getroot()\n",
    "item = root.findall('channel/item')\n",
    "\n",
    "#The for loop will parse the xml file to find the link to the xbrl files we need\n",
    "for entry in item:   \n",
    "    \n",
    "    desc = entry.findtext('description')  \n",
    "    \n",
    "    if desc == '10-K':\n",
    "        companyName = ''\n",
    "        xbrlurl = ''\n",
    "        for item in entry.iter():\n",
    "\n",
    "            if item.tag == '{http://www.sec.gov/Archives/edgar}companyName':\n",
    "                companyName = item.text\n",
    "                \n",
    "            if item.tag =='{http://www.sec.gov/Archives/edgar}xbrlFiles':\n",
    "                for ite  in item:\n",
    "                    if ite.attrib['{http://www.sec.gov/Archives/edgar}description'] == 'XBRL INSTANCE DOCUMENT':\n",
    "                        xbrlurl = ite.attrib['{http://www.sec.gov/Archives/edgar}url']\n",
    "        \n",
    "        #Some companies dont have the xbrl file we are going to use\n",
    "        if  xbrlurl != '': \n",
    "            companies.append(companyName)  \n",
    "            urls.append(xbrlurl)\n",
    "            file.append(xbrlurl.split('/')[-1])"
   ]
  },
  {
   "cell_type": "code",
   "execution_count": 7,
   "metadata": {
    "collapsed": true
   },
   "outputs": [],
   "source": [
    "#Creating a Dataframe to easely manipulate the data\n",
    "data = pd.DataFrame(data ={'Company': companies,\n",
    "                           'url': urls,\n",
    "                           'file': file})"
   ]
  },
  {
   "cell_type": "code",
   "execution_count": 8,
   "metadata": {
    "collapsed": true
   },
   "outputs": [],
   "source": [
    "#Creating a sample of 100 documents\n",
    "data = data.sample(100, random_state=42 )"
   ]
  },
  {
   "cell_type": "code",
   "execution_count": 9,
   "metadata": {},
   "outputs": [
    {
     "name": "stderr",
     "output_type": "stream",
     "text": [
      "Processing: 100%|██████████| 100/100 [01:07<00:00,  1.65it/s]\n"
     ]
    }
   ],
   "source": [
    "download = data['url'].progress_apply(download_file, path= path)"
   ]
  },
  {
   "cell_type": "code",
   "execution_count": 10,
   "metadata": {
    "collapsed": true
   },
   "outputs": [],
   "source": [
    "#Lets create a checkpoint for start here next time\n",
    "data.to_json('./data/10k-xbrl.json')"
   ]
  },
  {
   "cell_type": "markdown",
   "metadata": {},
   "source": [
    "# Parsing XBRL files\n",
    "\n",
    "Now that we have all files, we need to find only the tags we need"
   ]
  },
  {
   "cell_type": "code",
   "execution_count": 11,
   "metadata": {
    "collapsed": true
   },
   "outputs": [],
   "source": [
    "def xbrl_tag(xbrlfile,path= './',tags=[]):\n",
    "    import xml.etree.ElementTree as ET\n",
    "    from bs4 import BeautifulSoup\n",
    "    \n",
    "    text = ''\n",
    "    xbrlfile = path + xbrlfile\n",
    "    tree = ET.parse(xbrlfile)\n",
    "    root = tree.getroot()\n",
    "    \n",
    "    for item in root.findall('.//'):\n",
    "        #Only will get the tag we need\n",
    "        for tag in tags:\n",
    "            if item.tag.find(tag) >= 0:          \n",
    "                text = BeautifulSoup(item.text,\"lxml-xml\",).get_text()\n",
    "    return text            "
   ]
  },
  {
   "cell_type": "code",
   "execution_count": 12,
   "metadata": {
    "collapsed": true
   },
   "outputs": [],
   "source": [
    "tags = ['CommitmentsAndContingenciesDisclosure', 'ContingenciesDisclosure']"
   ]
  },
  {
   "cell_type": "code",
   "execution_count": 13,
   "metadata": {},
   "outputs": [
    {
     "name": "stderr",
     "output_type": "stream",
     "text": [
      "Processing: 100%|██████████| 100/100 [00:07<00:00, 13.75it/s]\n"
     ]
    }
   ],
   "source": [
    "data['Comitiment'] = data['file'].progress_apply(xbrl_tag,path=path,tags=tags)"
   ]
  },
  {
   "cell_type": "code",
   "execution_count": 15,
   "metadata": {},
   "outputs": [
    {
     "data": {
      "text/plain": [
       "Company       33\n",
       "file          33\n",
       "url           33\n",
       "Comitiment    33\n",
       "dtype: int64"
      ]
     },
     "execution_count": 15,
     "metadata": {},
     "output_type": "execute_result"
    }
   ],
   "source": [
    "data[data['Comitiment'].apply(len) == 0].count()"
   ]
  },
  {
   "cell_type": "markdown",
   "metadata": {
    "collapsed": true
   },
   "source": [
    "we have 33 documents that don't have this tag, we need to figure out this.\n",
    "\n",
    "I will update this notebook has soon as I finish"
   ]
  }
 ],
 "metadata": {
  "kernelspec": {
   "display_name": "Python 3",
   "language": "python",
   "name": "python3"
  },
  "language_info": {
   "codemirror_mode": {
    "name": "ipython",
    "version": 3
   },
   "file_extension": ".py",
   "mimetype": "text/x-python",
   "name": "python",
   "nbconvert_exporter": "python",
   "pygments_lexer": "ipython3",
   "version": "3.6.2"
  },
  "toc": {
   "colors": {
    "hover_highlight": "#DAA520",
    "navigate_num": "#000000",
    "navigate_text": "#333333",
    "running_highlight": "#FF0000",
    "selected_highlight": "#FFD700",
    "sidebar_border": "#EEEEEE",
    "wrapper_background": "#FFFFFF"
   },
   "moveMenuLeft": true,
   "nav_menu": {
    "height": "48px",
    "width": "252px"
   },
   "navigate_menu": true,
   "number_sections": true,
   "sideBar": true,
   "threshold": 4,
   "toc_cell": false,
   "toc_section_display": "block",
   "toc_window_display": false,
   "widenNotebook": false
  }
 },
 "nbformat": 4,
 "nbformat_minor": 2
}
