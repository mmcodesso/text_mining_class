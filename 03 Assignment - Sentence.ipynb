{
 "cells": [
  {
   "cell_type": "markdown",
   "metadata": {},
   "source": [
    "# Assigment 03\n",
    "\n",
    "Now that we already have the data from previous assgiment, let import the files and start to work with them."
   ]
  },
  {
   "cell_type": "code",
   "execution_count": 1,
   "metadata": {
    "collapsed": true
   },
   "outputs": [],
   "source": [
    "#Import the librarys\n",
    "import pandas as pd"
   ]
  },
  {
   "cell_type": "code",
   "execution_count": 2,
   "metadata": {
    "collapsed": true
   },
   "outputs": [],
   "source": [
    "data = pd.read_pickle('./data/raw/10-K_Data.pik')"
   ]
  },
  {
   "cell_type": "markdown",
   "metadata": {},
   "source": [
    "Lets Just take 10 files to process in this assigment"
   ]
  },
  {
   "cell_type": "code",
   "execution_count": 16,
   "metadata": {},
   "outputs": [],
   "source": [
    "data = pd.DataFrame(data.sample(10), copy=True)\n",
    "data.reset_index(inplace=True)"
   ]
  },
  {
   "cell_type": "markdown",
   "metadata": {},
   "source": [
    "## Removing the html tags"
   ]
  },
  {
   "cell_type": "markdown",
   "metadata": {},
   "source": [
    "The files we have imported have html tags and it is very dificult to read, lets tale a look"
   ]
  },
  {
   "cell_type": "code",
   "execution_count": 3,
   "metadata": {},
   "outputs": [
    {
     "name": "stdout",
     "output_type": "stream",
     "text": [
      "b'15\\nDATE AS OF CHANGE:\\t\\t20170315\\n\\nFILER:\\n\\n\\tCOMPANY DATA:\\t\\n\\t\\tCOMPANY CONFORMED NAME:\\t\\t\\tTRAVELZOO INC\\n\\t\\tCENTRAL INDEX KEY:\\t\\t\\t0001133311\\n\\t\\tSTANDARD INDUSTRIAL CLASSIFICATION:\\tSERVICES-COMPUTER INTEGRATED SYSTEMS DESIGN [7373]\\n\\t\\tIRS NUMBER:\\t\\t\\t\\t364415727\\n\\t\\tSTATE OF INCORPORATION:\\t\\t\\tDE\\n\\t\\tFISCAL YEAR END:\\t\\t\\t1231\\n\\n\\tFILING VALUES:\\n\\t\\tFORM TYPE:\\t\\t10-K\\n\\t\\tSEC ACT:\\t\\t1934 Act\\n\\t\\tSEC FILE NUMBER:\\t000-50171\\n\\t\\tFILM N'\n"
     ]
    }
   ],
   "source": [
    "sample = data['corpus'][0]\n",
    "print(sample[300:700])"
   ]
  },
  {
   "cell_type": "code",
   "execution_count": 4,
   "metadata": {
    "collapsed": true
   },
   "outputs": [],
   "source": [
    "from nltk.corpus import stopwords\n",
    "from bs4 import BeautifulSoup\n",
    "import re"
   ]
  },
  {
   "cell_type": "code",
   "execution_count": 5,
   "metadata": {
    "collapsed": true
   },
   "outputs": [],
   "source": [
    "def text_process( raw_review ):\n",
    "    # Function to convert a raw review to a string of words\n",
    "    # The input is a single string and the output is a single string\n",
    "    \n",
    "    # 1. Remove HTML\n",
    "    review_text = BeautifulSoup(raw_review,\"html5lib\").get_text() \n",
    "    \n",
    "    # 2. Remove non-letters\n",
    "    review_text = re.sub('\\s+', ' ',review_text)    \n",
    "    letters_only = re.sub(\"[^a-zA-Z.]\", \" \", review_text)\n",
    "\n",
    "    # 3. Convert to lower case, split into individual words\n",
    "    words = letters_only.lower().split()                             \n",
    "    #\n",
    "    # 4. In Python, searching a set is much faster than searching\n",
    "    #   a list, so convert the stop words to a set\n",
    "    stops = set(stopwords.words(\"english\"))                  \n",
    "    # \n",
    "    # 5. Remove stop words\n",
    "    meaningful_words = [w for w in words if not w in stops]   \n",
    "    #\n",
    "    # 6. Join the words back into one string separated by space, \n",
    "    # and return the result.\n",
    "    return( \" \".join( meaningful_words )) "
   ]
  },
  {
   "cell_type": "code",
   "execution_count": 7,
   "metadata": {},
   "outputs": [
    {
     "data": {
      "text/plain": [
       "'l year end filing values form type k sec act act sec file number film number business address street ave stars street th floor city los angeles state ca zip business phone mail address street ave stars street th floor city los angeles state ca zip k aresmanagement k.htm k document table contents united statessecurities exchange commissionwashington d.c. form k annual report pursuant section securi'"
      ]
     },
     "execution_count": 7,
     "metadata": {},
     "output_type": "execute_result"
    }
   ],
   "source": [
    "# Check to make sure its working\n",
    "sample_clean = data['corpus'].head(1).apply(text_process)\n",
    "list(sample_clean)[0][300:700]"
   ]
  },
  {
   "cell_type": "code",
   "execution_count": 19,
   "metadata": {},
   "outputs": [
    {
     "name": "stdout",
     "output_type": "stream",
     "text": [
      "Progress: 100.0% ... Documents processed: 10 time running: 5 minutes."
     ]
    }
   ],
   "source": [
    "# Get the number of documents based on the dataframe column size\n",
    "num_documents = data['corpus'].count()\n",
    "corpus = data['corpus']\n",
    "clean_corpus = []\n",
    "\n",
    "# Loop over each document; create an index i that goes from 0 to the \n",
    "#length of documents \n",
    "for i in range( 0, num_documents ):\n",
    "    # Call our function for each one, and add the result to the \n",
    "    #list of clena documents\n",
    "    clean_corpus.append( text_process( corpus[i] ) )\n",
    "    \n",
    "    # Printing out the the progress. \n",
    "    try:\n",
    "        count += 1\n",
    "        end = time.time()\n",
    "    except:\n",
    "        import sys \n",
    "        import time\n",
    "        start = time.time()\n",
    "        end = time.time()\n",
    "        count = 1\n",
    "        \n",
    "        #Need to change this variavel to match with the range of the for loop\n",
    "        num_documents = data['corpus'].count() \n",
    "        \n",
    "    sys.stdout.write(\"\\rProgress: {:2.1f}\".format(100 * count/float(num_documents)) \\\n",
    "                     + \"% ... Documents processed: \" + str(count) \\\n",
    "                     + \" time running: \" + str(int((end-start)/60)) + \" minutes.\") \n",
    "    sys.stdout.flush()"
   ]
  },
  {
   "cell_type": "code",
   "execution_count": 20,
   "metadata": {
    "collapsed": true
   },
   "outputs": [],
   "source": [
    "data['corpus'] = clean_corpus"
   ]
  },
  {
   "cell_type": "markdown",
   "metadata": {},
   "source": [
    "Lets save the file already clened, so next time we can start from here."
   ]
  },
  {
   "cell_type": "code",
   "execution_count": 21,
   "metadata": {
    "collapsed": true
   },
   "outputs": [],
   "source": [
    "data.to_pickle('./data/10k-clean_sample10.pik')"
   ]
  },
  {
   "cell_type": "markdown",
   "metadata": {},
   "source": [
    "# Importing the new data file"
   ]
  },
  {
   "cell_type": "code",
   "execution_count": 1,
   "metadata": {
    "collapsed": true
   },
   "outputs": [],
   "source": [
    "import pandas as pd\n",
    "data = pd.read_pickle('./data/10k-clean_sample10.pik')"
   ]
  },
  {
   "cell_type": "code",
   "execution_count": 2,
   "metadata": {
    "collapsed": true
   },
   "outputs": [],
   "source": [
    "# This Library Calculates the FOG index. https://github.com/shivam5992/textstat\n",
    "from textstat.textstat import textstat\n",
    "#NLTK \n",
    "import nltk\n",
    "from nltk.corpus import cmudict"
   ]
  },
  {
   "cell_type": "code",
   "execution_count": 3,
   "metadata": {},
   "outputs": [],
   "source": [
    "#This variable d will store the dictionary CMU\n",
    "d = cmudict.dict()\n",
    "\n",
    "#This funcition return the count of syllables from a word that exists in the dictionary\n",
    "def nsyl(word):\n",
    "    return int([len(\n",
    "                list(y for y in x \n",
    "                     if y[-1].isdigit())\n",
    "                ) \n",
    "            for x in d[word.lower()]\n",
    "           ][0])"
   ]
  },
  {
   "cell_type": "code",
   "execution_count": 4,
   "metadata": {
    "collapsed": true
   },
   "outputs": [],
   "source": [
    "#Creating the variables to store the data\n",
    "sentence_count = []\n",
    "sentence_average = [] \n",
    "syllable_count = []\n",
    "complex_words = []\n",
    "word_count = []\n",
    "fog_index = []"
   ]
  },
  {
   "cell_type": "code",
   "execution_count": 5,
   "metadata": {},
   "outputs": [
    {
     "name": "stdout",
     "output_type": "stream",
     "text": [
      "Progress: 100.0% ... Documents processed: 10 time running: 1 minutes."
     ]
    }
   ],
   "source": [
    "#This will process the text\n",
    "for corpus in data['corpus']:\n",
    "    \n",
    "    #sentences count\n",
    "    sentencecount = len(corpus.split('. '))\n",
    "       \n",
    "    #sentences averages\n",
    "    wordcount = 0\n",
    "    for word in corpus.split(' '):\n",
    "        if word in d:\n",
    "            wordcount += 1\n",
    "        \n",
    "    setenceaverage = round(wordcount/sentencecount,2)\n",
    "    \n",
    "    #syllables\n",
    "    syllablecount = 0\n",
    "    complexwords = 0\n",
    "    for word in corpus.split(' '):\n",
    "        if word in d:\n",
    "            syllables = nsyl(word)\n",
    "            \n",
    "            #Adding to count syllables average\n",
    "            syllablecount += syllables\n",
    "            \n",
    "            #Count only word with more than 2 syllables\n",
    "            if syllables >= 3:\n",
    "                complexwords += 1\n",
    "            \n",
    "                \n",
    "    syllablecount = round(syllablecount/wordcount,2) \n",
    "        \n",
    "    #FOG\n",
    "    fogindex = round(textstat.gunning_fog(corpus),2)\n",
    "      \n",
    "    #Append values to a list\n",
    "    sentence_count.append(sentencecount)\n",
    "    sentence_average.append(setenceaverage)\n",
    "    syllable_count.append(syllablecount)\n",
    "    complex_words.append(complexwords)\n",
    "    word_count.append(wordcount)\n",
    "    fog_index.append(fogindex)    "
   ]
  },
  {
   "cell_type": "code",
   "execution_count": 6,
   "metadata": {},
   "outputs": [],
   "source": [
    "#Adding the data to the dataframe    \n",
    "data['sentence count'] = sentence_count\n",
    "data['sentence average'] = sentence_average\n",
    "data['syllables average'] = syllable_count\n",
    "data['complex words'] = complex_words\n",
    "data['word count '] = word_count\n",
    "data['FOG index'] = fog_index"
   ]
  },
  {
   "cell_type": "code",
   "execution_count": 7,
   "metadata": {},
   "outputs": [
    {
     "data": {
      "text/html": [
       "<div>\n",
       "<style>\n",
       "    .dataframe thead tr:only-child th {\n",
       "        text-align: right;\n",
       "    }\n",
       "\n",
       "    .dataframe thead th {\n",
       "        text-align: left;\n",
       "    }\n",
       "\n",
       "    .dataframe tbody tr th {\n",
       "        vertical-align: top;\n",
       "    }\n",
       "</style>\n",
       "<table border=\"1\" class=\"dataframe\">\n",
       "  <thead>\n",
       "    <tr style=\"text-align: right;\">\n",
       "      <th></th>\n",
       "      <th>level_0</th>\n",
       "      <th>index</th>\n",
       "      <th>company_name</th>\n",
       "      <th>form_type</th>\n",
       "      <th>cik</th>\n",
       "      <th>date</th>\n",
       "      <th>file</th>\n",
       "      <th>corpus</th>\n",
       "      <th>sentence count</th>\n",
       "      <th>sentence average</th>\n",
       "      <th>syllables average</th>\n",
       "      <th>complex words</th>\n",
       "      <th>word count</th>\n",
       "      <th>FOG index</th>\n",
       "    </tr>\n",
       "  </thead>\n",
       "  <tbody>\n",
       "    <tr>\n",
       "      <th>0</th>\n",
       "      <td>60</td>\n",
       "      <td>142433</td>\n",
       "      <td>ICON LEASING FUND TWELVE, LLC</td>\n",
       "      <td>10-K</td>\n",
       "      <td>1377848</td>\n",
       "      <td>2017-03-30</td>\n",
       "      <td>edgar/data/1377848/0001377848-17-000003.txt</td>\n",
       "      <td>.txt .hdr.sgml accession number conformed subm...</td>\n",
       "      <td>9721</td>\n",
       "      <td>27.33</td>\n",
       "      <td>1.75</td>\n",
       "      <td>55263</td>\n",
       "      <td>265693</td>\n",
       "      <td>14.72</td>\n",
       "    </tr>\n",
       "    <tr>\n",
       "      <th>1</th>\n",
       "      <td>37</td>\n",
       "      <td>107981</td>\n",
       "      <td>FS Investment Corp II</td>\n",
       "      <td>10-K</td>\n",
       "      <td>1525759</td>\n",
       "      <td>2017-03-15</td>\n",
       "      <td>edgar/data/1525759/0001193125-17-083729.txt</td>\n",
       "      <td>.txt .hdr.sgml accession number conformed subm...</td>\n",
       "      <td>5634</td>\n",
       "      <td>12.01</td>\n",
       "      <td>2.12</td>\n",
       "      <td>24547</td>\n",
       "      <td>67680</td>\n",
       "      <td>10.11</td>\n",
       "    </tr>\n",
       "    <tr>\n",
       "      <th>2</th>\n",
       "      <td>48</td>\n",
       "      <td>11986</td>\n",
       "      <td>ARES MANAGEMENT LP</td>\n",
       "      <td>10-K</td>\n",
       "      <td>1176948</td>\n",
       "      <td>2017-02-27</td>\n",
       "      <td>edgar/data/1176948/0001628280-17-001756.txt</td>\n",
       "      <td>.txt .hdr.sgml accession number conformed subm...</td>\n",
       "      <td>25146</td>\n",
       "      <td>39.93</td>\n",
       "      <td>1.70</td>\n",
       "      <td>184741</td>\n",
       "      <td>1004108</td>\n",
       "      <td>21.16</td>\n",
       "    </tr>\n",
       "    <tr>\n",
       "      <th>3</th>\n",
       "      <td>61</td>\n",
       "      <td>194217</td>\n",
       "      <td>Momentive Performance Materials Inc.</td>\n",
       "      <td>10-K</td>\n",
       "      <td>1405041</td>\n",
       "      <td>2017-03-10</td>\n",
       "      <td>edgar/data/1405041/0001405041-17-000006.txt</td>\n",
       "      <td>.txt .hdr.sgml accession number conformed subm...</td>\n",
       "      <td>12995</td>\n",
       "      <td>50.29</td>\n",
       "      <td>1.69</td>\n",
       "      <td>118039</td>\n",
       "      <td>653539</td>\n",
       "      <td>23.76</td>\n",
       "    </tr>\n",
       "    <tr>\n",
       "      <th>4</th>\n",
       "      <td>58</td>\n",
       "      <td>172083</td>\n",
       "      <td>LegacyTexas Financial Group, Inc.</td>\n",
       "      <td>10-K</td>\n",
       "      <td>1487052</td>\n",
       "      <td>2017-02-09</td>\n",
       "      <td>edgar/data/1487052/0001487052-17-000019.txt</td>\n",
       "      <td>.txt .hdr.sgml accession number conformed subm...</td>\n",
       "      <td>15061</td>\n",
       "      <td>37.04</td>\n",
       "      <td>1.66</td>\n",
       "      <td>99435</td>\n",
       "      <td>557885</td>\n",
       "      <td>19.00</td>\n",
       "    </tr>\n",
       "    <tr>\n",
       "      <th>5</th>\n",
       "      <td>26</td>\n",
       "      <td>250025</td>\n",
       "      <td>SILVER BULL RESOURCES, INC.</td>\n",
       "      <td>10-K</td>\n",
       "      <td>1031093</td>\n",
       "      <td>2017-01-19</td>\n",
       "      <td>edgar/data/1031093/0001079973-17-000033.txt</td>\n",
       "      <td>.txt .hdr.sgml accession number conformed subm...</td>\n",
       "      <td>6800</td>\n",
       "      <td>21.00</td>\n",
       "      <td>1.85</td>\n",
       "      <td>32309</td>\n",
       "      <td>142767</td>\n",
       "      <td>12.18</td>\n",
       "    </tr>\n",
       "    <tr>\n",
       "      <th>6</th>\n",
       "      <td>96</td>\n",
       "      <td>211260</td>\n",
       "      <td>ORIGINAL SIXTEEN TO ONE MINE INC /CA/</td>\n",
       "      <td>10-K</td>\n",
       "      <td>74925</td>\n",
       "      <td>2017-03-27</td>\n",
       "      <td>edgar/data/74925/0000074925-17-000001.txt</td>\n",
       "      <td>.txt .hdr.sgml accession number conformed subm...</td>\n",
       "      <td>399</td>\n",
       "      <td>9.20</td>\n",
       "      <td>2.19</td>\n",
       "      <td>1344</td>\n",
       "      <td>3672</td>\n",
       "      <td>18.43</td>\n",
       "    </tr>\n",
       "    <tr>\n",
       "      <th>7</th>\n",
       "      <td>91</td>\n",
       "      <td>147188</td>\n",
       "      <td>Inbit Corp</td>\n",
       "      <td>10-K</td>\n",
       "      <td>1657803</td>\n",
       "      <td>2017-03-27</td>\n",
       "      <td>edgar/data/1657803/0001493152-17-002853.txt</td>\n",
       "      <td>.txt .hdr.sgml accession number conformed subm...</td>\n",
       "      <td>1422</td>\n",
       "      <td>16.39</td>\n",
       "      <td>1.85</td>\n",
       "      <td>6174</td>\n",
       "      <td>23309</td>\n",
       "      <td>10.78</td>\n",
       "    </tr>\n",
       "    <tr>\n",
       "      <th>8</th>\n",
       "      <td>68</td>\n",
       "      <td>183226</td>\n",
       "      <td>MIMEDX GROUP, INC.</td>\n",
       "      <td>10-K</td>\n",
       "      <td>1376339</td>\n",
       "      <td>2017-03-01</td>\n",
       "      <td>edgar/data/1376339/0001376339-17-000042.txt</td>\n",
       "      <td>.txt .hdr.sgml accession number conformed subm...</td>\n",
       "      <td>9840</td>\n",
       "      <td>26.38</td>\n",
       "      <td>1.71</td>\n",
       "      <td>52046</td>\n",
       "      <td>259557</td>\n",
       "      <td>14.36</td>\n",
       "    </tr>\n",
       "    <tr>\n",
       "      <th>9</th>\n",
       "      <td>90</td>\n",
       "      <td>182267</td>\n",
       "      <td>MGM Growth Properties LLC</td>\n",
       "      <td>10-K</td>\n",
       "      <td>1656936</td>\n",
       "      <td>2017-03-06</td>\n",
       "      <td>edgar/data/1656936/0001628280-17-002206.txt</td>\n",
       "      <td>.txt .hdr.sgml accession number conformed subm...</td>\n",
       "      <td>9045</td>\n",
       "      <td>32.40</td>\n",
       "      <td>1.71</td>\n",
       "      <td>57879</td>\n",
       "      <td>293060</td>\n",
       "      <td>16.31</td>\n",
       "    </tr>\n",
       "  </tbody>\n",
       "</table>\n",
       "</div>"
      ],
      "text/plain": [
       "   level_0   index                           company_name form_type      cik  \\\n",
       "0       60  142433          ICON LEASING FUND TWELVE, LLC      10-K  1377848   \n",
       "1       37  107981                  FS Investment Corp II      10-K  1525759   \n",
       "2       48   11986                     ARES MANAGEMENT LP      10-K  1176948   \n",
       "3       61  194217   Momentive Performance Materials Inc.      10-K  1405041   \n",
       "4       58  172083      LegacyTexas Financial Group, Inc.      10-K  1487052   \n",
       "5       26  250025            SILVER BULL RESOURCES, INC.      10-K  1031093   \n",
       "6       96  211260  ORIGINAL SIXTEEN TO ONE MINE INC /CA/      10-K    74925   \n",
       "7       91  147188                             Inbit Corp      10-K  1657803   \n",
       "8       68  183226                     MIMEDX GROUP, INC.      10-K  1376339   \n",
       "9       90  182267              MGM Growth Properties LLC      10-K  1656936   \n",
       "\n",
       "         date                                         file  \\\n",
       "0  2017-03-30  edgar/data/1377848/0001377848-17-000003.txt   \n",
       "1  2017-03-15  edgar/data/1525759/0001193125-17-083729.txt   \n",
       "2  2017-02-27  edgar/data/1176948/0001628280-17-001756.txt   \n",
       "3  2017-03-10  edgar/data/1405041/0001405041-17-000006.txt   \n",
       "4  2017-02-09  edgar/data/1487052/0001487052-17-000019.txt   \n",
       "5  2017-01-19  edgar/data/1031093/0001079973-17-000033.txt   \n",
       "6  2017-03-27    edgar/data/74925/0000074925-17-000001.txt   \n",
       "7  2017-03-27  edgar/data/1657803/0001493152-17-002853.txt   \n",
       "8  2017-03-01  edgar/data/1376339/0001376339-17-000042.txt   \n",
       "9  2017-03-06  edgar/data/1656936/0001628280-17-002206.txt   \n",
       "\n",
       "                                              corpus  sentence count  \\\n",
       "0  .txt .hdr.sgml accession number conformed subm...            9721   \n",
       "1  .txt .hdr.sgml accession number conformed subm...            5634   \n",
       "2  .txt .hdr.sgml accession number conformed subm...           25146   \n",
       "3  .txt .hdr.sgml accession number conformed subm...           12995   \n",
       "4  .txt .hdr.sgml accession number conformed subm...           15061   \n",
       "5  .txt .hdr.sgml accession number conformed subm...            6800   \n",
       "6  .txt .hdr.sgml accession number conformed subm...             399   \n",
       "7  .txt .hdr.sgml accession number conformed subm...            1422   \n",
       "8  .txt .hdr.sgml accession number conformed subm...            9840   \n",
       "9  .txt .hdr.sgml accession number conformed subm...            9045   \n",
       "\n",
       "   sentence average  syllables average  complex words  word count   FOG index  \n",
       "0             27.33               1.75          55263       265693      14.72  \n",
       "1             12.01               2.12          24547        67680      10.11  \n",
       "2             39.93               1.70         184741      1004108      21.16  \n",
       "3             50.29               1.69         118039       653539      23.76  \n",
       "4             37.04               1.66          99435       557885      19.00  \n",
       "5             21.00               1.85          32309       142767      12.18  \n",
       "6              9.20               2.19           1344         3672      18.43  \n",
       "7             16.39               1.85           6174        23309      10.78  \n",
       "8             26.38               1.71          52046       259557      14.36  \n",
       "9             32.40               1.71          57879       293060      16.31  "
      ]
     },
     "execution_count": 7,
     "metadata": {},
     "output_type": "execute_result"
    }
   ],
   "source": [
    "data.head(10)"
   ]
  },
  {
   "cell_type": "code",
   "execution_count": null,
   "metadata": {
    "collapsed": true
   },
   "outputs": [],
   "source": []
  }
 ],
 "metadata": {
  "kernelspec": {
   "display_name": "Python 3",
   "language": "python",
   "name": "python3"
  },
  "language_info": {
   "codemirror_mode": {
    "name": "ipython",
    "version": 3
   },
   "file_extension": ".py",
   "mimetype": "text/x-python",
   "name": "python",
   "nbconvert_exporter": "python",
   "pygments_lexer": "ipython3",
   "version": "3.6.2"
  },
  "toc": {
   "colors": {
    "hover_highlight": "#DAA520",
    "navigate_num": "#000000",
    "navigate_text": "#333333",
    "running_highlight": "#FF0000",
    "selected_highlight": "#FFD700",
    "sidebar_border": "#EEEEEE",
    "wrapper_background": "#FFFFFF"
   },
   "moveMenuLeft": true,
   "nav_menu": {
    "height": "48px",
    "width": "252px"
   },
   "navigate_menu": true,
   "number_sections": true,
   "sideBar": true,
   "threshold": 4,
   "toc_cell": false,
   "toc_section_display": "block",
   "toc_window_display": false,
   "widenNotebook": false
  }
 },
 "nbformat": 4,
 "nbformat_minor": 2
}
