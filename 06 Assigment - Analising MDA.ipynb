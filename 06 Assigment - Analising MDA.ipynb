{
 "cells": [
  {
   "cell_type": "markdown",
   "metadata": {},
   "source": [
    "# Assigment 6\n",
    "\n",
    "Analising MDA\n",
    "\n",
    "If you don't process assigment 5, you can download the mda files to read in padas with pd.read_json\n",
    "https://github.com/mmcodesso/text_mining_class/blob/master/data/mda.json\n"
   ]
  },
  {
   "cell_type": "code",
   "execution_count": 2,
   "metadata": {
    "collapsed": true
   },
   "outputs": [],
   "source": [
    "import pandas as pd"
   ]
  },
  {
   "cell_type": "code",
   "execution_count": 3,
   "metadata": {
    "collapsed": true
   },
   "outputs": [],
   "source": [
    "data = pd.read_json('./data/mda.json')"
   ]
  },
  {
   "cell_type": "code",
   "execution_count": 32,
   "metadata": {},
   "outputs": [],
   "source": [
    "#Lets keep only the  documents with MDA\n",
    "data = data[data.corpus.apply(len) > 0]"
   ]
  },
  {
   "cell_type": "code",
   "execution_count": 42,
   "metadata": {},
   "outputs": [],
   "source": [
    "sample = data.corpus.loc[1]"
   ]
  },
  {
   "cell_type": "code",
   "execution_count": 105,
   "metadata": {},
   "outputs": [
    {
     "name": "stdout",
     "output_type": "stream",
     "text": [
      "435 Sentences\n"
     ]
    }
   ],
   "source": [
    "sent_tokenize_list = sent_tokenize(sample)\n",
    "print(str(len(sent_tokenize_list)) + ' Sentences')"
   ]
  },
  {
   "cell_type": "code",
   "execution_count": 52,
   "metadata": {
    "scrolled": false
   },
   "outputs": [
    {
     "name": "stdout",
     "output_type": "stream",
     "text": [
      "MANAGEMENT’S DISCUSSION AND ANALYSIS OF FINANCIAL CONDITION AND RESULTS OF\n",
      "OPERATIONS\n",
      "INTRODUCTION\n",
      "Management’s Discussion and Analysis of Financial Condition and Results of Operations should be read in conjunction with the consolidated financial statements of ACCO Brands Corporation and the accompanying notes contained in Part II, Item 8. of this report.\n",
      "---------------------------\n",
      "Unless otherwise noted, the following discussion pertains only to our continuing operations.\n",
      "---------------------------\n",
      "Overview of the Company\n",
      "ACCO Brands is one of the world's largest designers, marketers and manufacturers of branded business, academic and selected consumer products.\n",
      "---------------------------\n"
     ]
    }
   ],
   "source": [
    "for sentence in sent_tokenize_list[:4]:\n",
    "    if len(sentence) > 20:\n",
    "        print(sentence)\n",
    "        print('---------------------------')"
   ]
  },
  {
   "cell_type": "markdown",
   "metadata": {},
   "source": [
    "## Importing NLTK Tagger "
   ]
  },
  {
   "cell_type": "code",
   "execution_count": 56,
   "metadata": {},
   "outputs": [
    {
     "name": "stdout",
     "output_type": "stream",
     "text": [
      "Unigram tagger loaded\n",
      "Bigram tagger loaded\n",
      "Trigram tagger loaded\n"
     ]
    }
   ],
   "source": [
    "from nltk.corpus import treebank\n",
    "from nltk import tokenize\n",
    "from nltk import tag\n",
    "\n",
    "pennTags=treebank.tagged_sents()\n",
    "\n",
    "dt=tag.DefaultTagger('NN')\n",
    "ut=tag.UnigramTagger(pennTags,backoff=dt)\n",
    "bt=tag.BigramTagger(pennTags, backoff=ut)\n",
    "tt=tag.TrigramTagger(pennTags, backoff=bt)"
   ]
  },
  {
   "cell_type": "code",
   "execution_count": 57,
   "metadata": {},
   "outputs": [
    {
     "data": {
      "text/plain": [
       "0.99166846535722"
      ]
     },
     "execution_count": 57,
     "metadata": {},
     "output_type": "execute_result"
    }
   ],
   "source": [
    "tt.evaluate(test_data)"
   ]
  }
 ],
 "metadata": {
  "kernelspec": {
   "display_name": "Python 3",
   "language": "python",
   "name": "python3"
  },
  "language_info": {
   "codemirror_mode": {
    "name": "ipython",
    "version": 3
   },
   "file_extension": ".py",
   "mimetype": "text/x-python",
   "name": "python",
   "nbconvert_exporter": "python",
   "pygments_lexer": "ipython3",
   "version": "3.6.2"
  },
  "toc": {
   "colors": {
    "hover_highlight": "#DAA520",
    "navigate_num": "#000000",
    "navigate_text": "#333333",
    "running_highlight": "#FF0000",
    "selected_highlight": "#FFD700",
    "sidebar_border": "#EEEEEE",
    "wrapper_background": "#FFFFFF"
   },
   "moveMenuLeft": true,
   "nav_menu": {
    "height": "30px",
    "width": "252px"
   },
   "navigate_menu": true,
   "number_sections": true,
   "sideBar": true,
   "threshold": 4,
   "toc_cell": false,
   "toc_section_display": "block",
   "toc_window_display": false,
   "widenNotebook": false
  }
 },
 "nbformat": 4,
 "nbformat_minor": 2
}
