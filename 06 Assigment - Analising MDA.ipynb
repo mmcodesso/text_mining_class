{
 "cells": [
  {
   "cell_type": "markdown",
   "metadata": {},
   "source": [
    "# Assigment 6\n",
    "\n",
    "Analising MDA\n",
    "\n",
    "If you don't process assigment 5, you can download the mda files to read in padas with pd.read_json\n",
    "https://github.com/mmcodesso/text_mining_class/blob/master/data/mda.json\n"
   ]
  },
  {
   "cell_type": "code",
   "execution_count": 1,
   "metadata": {
    "collapsed": true
   },
   "outputs": [],
   "source": [
    "import pandas as pd"
   ]
  },
  {
   "cell_type": "code",
   "execution_count": 2,
   "metadata": {
    "collapsed": true
   },
   "outputs": [],
   "source": [
    "data = pd.read_json('./data/mda.json')"
   ]
  },
  {
   "cell_type": "code",
   "execution_count": 3,
   "metadata": {},
   "outputs": [
    {
     "data": {
      "text/html": [
       "<div>\n",
       "<style>\n",
       "    .dataframe thead tr:only-child th {\n",
       "        text-align: right;\n",
       "    }\n",
       "\n",
       "    .dataframe thead th {\n",
       "        text-align: left;\n",
       "    }\n",
       "\n",
       "    .dataframe tbody tr th {\n",
       "        vertical-align: top;\n",
       "    }\n",
       "</style>\n",
       "<table border=\"1\" class=\"dataframe\">\n",
       "  <thead>\n",
       "    <tr style=\"text-align: right;\">\n",
       "      <th></th>\n",
       "      <th>cik</th>\n",
       "      <th>company_name</th>\n",
       "      <th>corpus</th>\n",
       "      <th>date</th>\n",
       "      <th>file</th>\n",
       "      <th>form_type</th>\n",
       "      <th>index</th>\n",
       "    </tr>\n",
       "  </thead>\n",
       "  <tbody>\n",
       "    <tr>\n",
       "      <th>0</th>\n",
       "      <td>1133311</td>\n",
       "      <td>TRAVELZOO INC</td>\n",
       "      <td></td>\n",
       "      <td>2017-03-15</td>\n",
       "      <td>edgar/data/1133311/0001133311-17-000010.txt</td>\n",
       "      <td>10-K</td>\n",
       "      <td>275433</td>\n",
       "    </tr>\n",
       "    <tr>\n",
       "      <th>1</th>\n",
       "      <td>712034</td>\n",
       "      <td>ACCO BRANDS Corp</td>\n",
       "      <td>ITEM 7.\\nMANAGEMENT’S DISCUSSION AND ANALYSIS ...</td>\n",
       "      <td>2017-02-27</td>\n",
       "      <td>edgar/data/712034/0000712034-17-000012.txt</td>\n",
       "      <td>10-K</td>\n",
       "      <td>2116</td>\n",
       "    </tr>\n",
       "    <tr>\n",
       "      <th>10</th>\n",
       "      <td>1588014</td>\n",
       "      <td>ADM ENDEAVORS, INC.</td>\n",
       "      <td>ITEM 7. MANAGEMENT’S DISCUSSION AND ANALYSIS O...</td>\n",
       "      <td>2017-01-24</td>\n",
       "      <td>edgar/data/1588014/0001493152-17-000762.txt</td>\n",
       "      <td>10-K</td>\n",
       "      <td>2840</td>\n",
       "    </tr>\n",
       "    <tr>\n",
       "      <th>11</th>\n",
       "      <td>36840</td>\n",
       "      <td>FIRST REAL ESTATE INVESTMENT TRUST OF NEW JERSEY</td>\n",
       "      <td>ITEM 7\\nMANAGEMENT'S DISCUSSION AND ANALYSIS\\n...</td>\n",
       "      <td>2017-01-13</td>\n",
       "      <td>edgar/data/36840/0001174947-17-000045.txt</td>\n",
       "      <td>10-K</td>\n",
       "      <td>103081</td>\n",
       "    </tr>\n",
       "    <tr>\n",
       "      <th>12</th>\n",
       "      <td>1539894</td>\n",
       "      <td>Atlas Financial Holdings, Inc.</td>\n",
       "      <td></td>\n",
       "      <td>2017-03-13</td>\n",
       "      <td>edgar/data/1539894/0001539894-17-000009.txt</td>\n",
       "      <td>10-K</td>\n",
       "      <td>23309</td>\n",
       "    </tr>\n",
       "  </tbody>\n",
       "</table>\n",
       "</div>"
      ],
      "text/plain": [
       "        cik                                      company_name  \\\n",
       "0   1133311                                     TRAVELZOO INC   \n",
       "1    712034                                  ACCO BRANDS Corp   \n",
       "10  1588014                               ADM ENDEAVORS, INC.   \n",
       "11    36840  FIRST REAL ESTATE INVESTMENT TRUST OF NEW JERSEY   \n",
       "12  1539894                    Atlas Financial Holdings, Inc.   \n",
       "\n",
       "                                               corpus       date  \\\n",
       "0                                                     2017-03-15   \n",
       "1   ITEM 7.\\nMANAGEMENT’S DISCUSSION AND ANALYSIS ... 2017-02-27   \n",
       "10  ITEM 7. MANAGEMENT’S DISCUSSION AND ANALYSIS O... 2017-01-24   \n",
       "11  ITEM 7\\nMANAGEMENT'S DISCUSSION AND ANALYSIS\\n... 2017-01-13   \n",
       "12                                                    2017-03-13   \n",
       "\n",
       "                                           file form_type   index  \n",
       "0   edgar/data/1133311/0001133311-17-000010.txt      10-K  275433  \n",
       "1    edgar/data/712034/0000712034-17-000012.txt      10-K    2116  \n",
       "10  edgar/data/1588014/0001493152-17-000762.txt      10-K    2840  \n",
       "11    edgar/data/36840/0001174947-17-000045.txt      10-K  103081  \n",
       "12  edgar/data/1539894/0001539894-17-000009.txt      10-K   23309  "
      ]
     },
     "execution_count": 3,
     "metadata": {},
     "output_type": "execute_result"
    }
   ],
   "source": [
    "data.head()"
   ]
  },
  {
   "cell_type": "code",
   "execution_count": null,
   "metadata": {
    "collapsed": true
   },
   "outputs": [],
   "source": []
  }
 ],
 "metadata": {
  "kernelspec": {
   "display_name": "Python 3",
   "language": "python",
   "name": "python3"
  },
  "language_info": {
   "codemirror_mode": {
    "name": "ipython",
    "version": 3
   },
   "file_extension": ".py",
   "mimetype": "text/x-python",
   "name": "python",
   "nbconvert_exporter": "python",
   "pygments_lexer": "ipython3",
   "version": "3.6.2"
  },
  "toc": {
   "colors": {
    "hover_highlight": "#DAA520",
    "navigate_num": "#000000",
    "navigate_text": "#333333",
    "running_highlight": "#FF0000",
    "selected_highlight": "#FFD700",
    "sidebar_border": "#EEEEEE",
    "wrapper_background": "#FFFFFF"
   },
   "moveMenuLeft": true,
   "nav_menu": {
    "height": "30px",
    "width": "252px"
   },
   "navigate_menu": true,
   "number_sections": true,
   "sideBar": true,
   "threshold": 4,
   "toc_cell": false,
   "toc_section_display": "block",
   "toc_window_display": false,
   "widenNotebook": false
  }
 },
 "nbformat": 4,
 "nbformat_minor": 2
}
