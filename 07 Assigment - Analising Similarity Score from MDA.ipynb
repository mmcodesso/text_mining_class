{
 "cells": [
  {
   "cell_type": "markdown",
   "metadata": {},
   "source": [
    "# Assigment 7\n",
    "\n",
    "we will analise the similarity score for 5 companies in five five years"
   ]
  },
  {
   "cell_type": "markdown",
   "metadata": {},
   "source": [
    "##  Downloading the index files"
   ]
  },
  {
   "cell_type": "code",
   "execution_count": 1,
   "metadata": {
    "collapsed": true
   },
   "outputs": [],
   "source": [
    "import os\n",
    "import pandas as pd\n",
    "import itertools\n",
    "import sys"
   ]
  },
  {
   "cell_type": "code",
   "execution_count": 2,
   "metadata": {},
   "outputs": [],
   "source": [
    "SEC_GOV_URL = 'http://www.sec.gov/Archives'\n",
    "FORM_INDEX_URL = os.path.join(SEC_GOV_URL,'edgar','full-index','{}','QTR{}','form.idx')"
   ]
  },
  {
   "cell_type": "code",
   "execution_count": 3,
   "metadata": {},
   "outputs": [],
   "source": [
    "def download_index(year_start,year_end):\n",
    "    \n",
    "    df_index = pd.DataFrame()\n",
    "    \n",
    "    for year, qtr in itertools.product(range(year_start,year_end+1),range(1,5)):\n",
    "        \n",
    "        index_url = FORM_INDEX_URL.format(year,qtr)\n",
    "        \n",
    "        #Printing the progress\n",
    "        sys.stdout.write(\"\\rDownloading \" + index_url )\n",
    "        sys.stdout.flush()\n",
    "        \n",
    "        df = pd.read_fwf(index_url, skiprows=10, header =None , \\\n",
    "                         colspecs=[(0,11),(12,73),(74,85), (86,96), (98,150)], \\\n",
    "                         names= ['form_type','company_name','cik','date','file'],\\\n",
    "                         encoding='latin-1') \n",
    "        \n",
    "        df = df[df.form_type == '10-K']\n",
    "        \n",
    "        df_index = pd.concat([df_index,df],ignore_index=True)\n",
    "        \n",
    "    return df_index\n",
    "    "
   ]
  },
  {
   "cell_type": "code",
   "execution_count": 4,
   "metadata": {},
   "outputs": [
    {
     "name": "stdout",
     "output_type": "stream",
     "text": [
      "Downloading http://www.sec.gov/Archives/edgar/full-index/2015/QTR4/form.idx"
     ]
    }
   ],
   "source": [
    "#Setting the year to download\n",
    "year_start = 2011\n",
    "year_end = 2015\n",
    "#Creating the dataframe\n",
    "data = download_index(year_start,year_end)"
   ]
  },
  {
   "cell_type": "code",
   "execution_count": 5,
   "metadata": {},
   "outputs": [
    {
     "data": {
      "text/html": [
       "<div>\n",
       "<style>\n",
       "    .dataframe thead tr:only-child th {\n",
       "        text-align: right;\n",
       "    }\n",
       "\n",
       "    .dataframe thead th {\n",
       "        text-align: left;\n",
       "    }\n",
       "\n",
       "    .dataframe tbody tr th {\n",
       "        vertical-align: top;\n",
       "    }\n",
       "</style>\n",
       "<table border=\"1\" class=\"dataframe\">\n",
       "  <thead>\n",
       "    <tr style=\"text-align: right;\">\n",
       "      <th></th>\n",
       "      <th>form_type</th>\n",
       "      <th>company_name</th>\n",
       "      <th>cik</th>\n",
       "      <th>date</th>\n",
       "      <th>file</th>\n",
       "    </tr>\n",
       "  </thead>\n",
       "  <tbody>\n",
       "    <tr>\n",
       "      <th>0</th>\n",
       "      <td>10-K</td>\n",
       "      <td>1ST CONSTITUTION BANCORP</td>\n",
       "      <td>1141807</td>\n",
       "      <td>2011-03-23</td>\n",
       "      <td>edgar/data/1141807/0001214659-11-000973.txt</td>\n",
       "    </tr>\n",
       "    <tr>\n",
       "      <th>1</th>\n",
       "      <td>10-K</td>\n",
       "      <td>1ST SOURCE CORP</td>\n",
       "      <td>34782</td>\n",
       "      <td>2011-02-17</td>\n",
       "      <td>edgar/data/34782/0000034782-11-000008.txt</td>\n",
       "    </tr>\n",
       "    <tr>\n",
       "      <th>2</th>\n",
       "      <td>10-K</td>\n",
       "      <td>1st Century Bancshares, Inc.</td>\n",
       "      <td>1420525</td>\n",
       "      <td>2011-03-15</td>\n",
       "      <td>edgar/data/1420525/0001420525-11-000013.txt</td>\n",
       "    </tr>\n",
       "    <tr>\n",
       "      <th>3</th>\n",
       "      <td>10-K</td>\n",
       "      <td>1st FRANKLIN FINANCIAL CORP</td>\n",
       "      <td>38723</td>\n",
       "      <td>2011-03-30</td>\n",
       "      <td>edgar/data/38723/0000038723-11-000025.txt</td>\n",
       "    </tr>\n",
       "    <tr>\n",
       "      <th>4</th>\n",
       "      <td>10-K</td>\n",
       "      <td>1st United Bancorp, Inc.</td>\n",
       "      <td>1415277</td>\n",
       "      <td>2011-02-14</td>\n",
       "      <td>edgar/data/1415277/0001171200-11-000120.txt</td>\n",
       "    </tr>\n",
       "  </tbody>\n",
       "</table>\n",
       "</div>"
      ],
      "text/plain": [
       "  form_type                  company_name      cik        date  \\\n",
       "0      10-K      1ST CONSTITUTION BANCORP  1141807  2011-03-23   \n",
       "1      10-K               1ST SOURCE CORP    34782  2011-02-17   \n",
       "2      10-K  1st Century Bancshares, Inc.  1420525  2011-03-15   \n",
       "3      10-K   1st FRANKLIN FINANCIAL CORP    38723  2011-03-30   \n",
       "4      10-K      1st United Bancorp, Inc.  1415277  2011-02-14   \n",
       "\n",
       "                                          file  \n",
       "0  edgar/data/1141807/0001214659-11-000973.txt  \n",
       "1    edgar/data/34782/0000034782-11-000008.txt  \n",
       "2  edgar/data/1420525/0001420525-11-000013.txt  \n",
       "3    edgar/data/38723/0000038723-11-000025.txt  \n",
       "4  edgar/data/1415277/0001171200-11-000120.txt  "
      ]
     },
     "execution_count": 5,
     "metadata": {},
     "output_type": "execute_result"
    }
   ],
   "source": [
    "data.head()"
   ]
  },
  {
   "cell_type": "code",
   "execution_count": 6,
   "metadata": {},
   "outputs": [
    {
     "name": "stdout",
     "output_type": "stream",
     "text": [
      "<class 'pandas.core.frame.DataFrame'>\n",
      "RangeIndex: 41407 entries, 0 to 41406\n",
      "Data columns (total 5 columns):\n",
      "form_type       41407 non-null object\n",
      "company_name    41407 non-null object\n",
      "cik             41407 non-null int64\n",
      "date            41407 non-null object\n",
      "file            41407 non-null object\n",
      "dtypes: int64(1), object(4)\n",
      "memory usage: 1.6+ MB\n"
     ]
    }
   ],
   "source": [
    "data.info()"
   ]
  },
  {
   "cell_type": "code",
   "execution_count": 7,
   "metadata": {
    "collapsed": true
   },
   "outputs": [],
   "source": [
    "companies = ['APPLE INC','ORACLE CORP','MICROSOFT CORP','Google Inc.','YAHOO INC']"
   ]
  },
  {
   "cell_type": "code",
   "execution_count": 8,
   "metadata": {},
   "outputs": [],
   "source": [
    "data = data[data.company_name.isin(companies)]"
   ]
  },
  {
   "cell_type": "markdown",
   "metadata": {},
   "source": [
    "## Downloading MDA"
   ]
  },
  {
   "cell_type": "code",
   "execution_count": 9,
   "metadata": {
    "collapsed": true
   },
   "outputs": [],
   "source": [
    "from bs4 import BeautifulSoup\n",
    "import unicodedata\n",
    "import re\n",
    "import requests\n",
    "\n",
    "from tqdm import tqdm\n",
    "tqdm.pandas(desc=\"Processing\")"
   ]
  },
  {
   "cell_type": "code",
   "execution_count": 10,
   "metadata": {
    "collapsed": true
   },
   "outputs": [],
   "source": [
    "def get_mda(url):\n",
    "    SEC_GOV_URL = 'http://www.sec.gov/Archives/'\n",
    "    url = SEC_GOV_URL + url\n",
    "    #print(url)\n",
    "    text = requests.get(url).text\n",
    "    text = text_process(text)\n",
    "    text = parsing_job(text)\n",
    "    return text"
   ]
  },
  {
   "cell_type": "code",
   "execution_count": 11,
   "metadata": {},
   "outputs": [],
   "source": [
    "def text_process(text):\n",
    "    \"\"\"\n",
    "    Preprocess Text\n",
    "    \"\"\"\n",
    "    #Remove the  html tags\n",
    "    try:\n",
    "        soup = BeautifulSoup(text, \"html.parser\" )\n",
    "    except:\n",
    "        soup = BeautifulSoup(text, \"html5lib\" )\n",
    "    text = soup.get_text(\"\\n\")\n",
    "    \n",
    "    # Normalize\n",
    "    text = unicodedata.normalize(\"NFKD\", text) \n",
    "    text = '\\n'.join(text.splitlines())\n",
    "    \n",
    "    # Convert to upper\n",
    "    text = text.upper() # Convert to upper\n",
    "\n",
    "    # Take care of breaklines & whitespaces combinations due to beautifulsoup parsing\n",
    "    text = re.sub(r'[ ]+\\n', '\\n', text)\n",
    "    text = re.sub(r'\\n[ ]+', '\\n', text)\n",
    "    text = re.sub(r'\\n+', '\\n', text)\n",
    "\n",
    "    # Reformat item headers\n",
    "    text = text.replace('\\n.\\n','.\\n') # Move Period to beginning\n",
    "\n",
    "    text = text.replace('\\nI\\nTEM','\\nITEM')\n",
    "    text = text.replace('\\nITEM\\n','\\nITEM ')\n",
    "    text = text.replace('\\nITEM  ','\\nITEM ')\n",
    "\n",
    "    text = text.replace(':\\n','.\\n')\n",
    "\n",
    "    # Math symbols for clearer looks\n",
    "    text = text.replace('$\\n','$')\n",
    "    text = text.replace('\\n%','%')\n",
    "    \n",
    "    return text"
   ]
  },
  {
   "cell_type": "code",
   "execution_count": 12,
   "metadata": {},
   "outputs": [],
   "source": [
    "def parsing_job(text):\n",
    "    mda, end= parse_mda(text)    \n",
    "    # Parse second time if first parse results in index \n",
    "    if mda and len(mda.encode('utf-8')) < 1000:\n",
    "        mda, _ = parse_mda(text, start=end)\n",
    "    return mda\n",
    "\n",
    "def parse_mda(text, start=0):\n",
    "        debug = False\n",
    "        \"\"\"\n",
    "            Return Values\n",
    "        \"\"\"\n",
    "\n",
    "        mda = \"\"\n",
    "        end = 0\n",
    "\n",
    "        \"\"\"\n",
    "            Parsing Rules\n",
    "        \"\"\"\n",
    "\n",
    "        # Define start & end signal for parsing\n",
    "        item7_begins = [ '\\nITEM 7.', '\\nITEM 7 –','\\nITEM 7:', '\\nITEM 7 ', '\\nITEM 7\\n' ]\n",
    "        item7_ends   = [ '\\nITEM 7A' ]\n",
    "        if start != 0:\n",
    "            item7_ends.append('\\nITEM 7') # Case: ITEM 7A does not exist\n",
    "        item8_begins = [ '\\nITEM 8'  ]\n",
    "\n",
    "        \"\"\"\n",
    "            Parsing code section\n",
    "        \"\"\"\n",
    "        text = text[start:]\n",
    "\n",
    "        # Get begin\n",
    "        for item7 in item7_begins:\n",
    "            begin = text.find(item7)\n",
    "            if debug:\n",
    "                print(item7,begin)\n",
    "            if begin != -1:\n",
    "                break\n",
    "\n",
    "        if begin != -1: # Begin found\n",
    "            for item7A in item7_ends:\n",
    "                end = text.find(item7A, begin+1)\n",
    "                if debug:\n",
    "                    print(item7A,end)\n",
    "                if end != -1:\n",
    "                    break\n",
    "\n",
    "            if end == -1: # ITEM 7A does not exist\n",
    "                for item8 in item8_begins:\n",
    "                    end = text.find(item8, begin+1)\n",
    "                    if debug:\n",
    "                        print(item8,end)\n",
    "                    if end != -1:\n",
    "                        break\n",
    "\n",
    "            # Get MDA\n",
    "            if end > begin:\n",
    "                mda = text[begin:end].strip()\n",
    "            else:\n",
    "                end = 0\n",
    "\n",
    "        return mda, end"
   ]
  },
  {
   "cell_type": "code",
   "execution_count": 13,
   "metadata": {},
   "outputs": [
    {
     "name": "stderr",
     "output_type": "stream",
     "text": [
      "Processing: 100%|██████████| 25/25 [04:43<00:00, 14.66s/it]\n"
     ]
    }
   ],
   "source": [
    "data['mda'] = data['file'].progress_apply(get_mda)"
   ]
  },
  {
   "cell_type": "code",
   "execution_count": 14,
   "metadata": {
    "collapsed": true
   },
   "outputs": [],
   "source": [
    "data.to_json('./data/mda_5year.json')"
   ]
  },
  {
   "cell_type": "markdown",
   "metadata": {},
   "source": [
    "# Analising MDA\n",
    "\n",
    "We need to calcule the similary score in the mda, just load the file and....."
   ]
  },
  {
   "cell_type": "code",
   "execution_count": 17,
   "metadata": {
    "collapsed": true
   },
   "outputs": [],
   "source": [
    "import pandas as pd\n",
    "data = pd.read_json('./data/mda_5year.json')"
   ]
  },
  {
   "cell_type": "code",
   "execution_count": 18,
   "metadata": {},
   "outputs": [
    {
     "data": {
      "text/html": [
       "<div>\n",
       "<style>\n",
       "    .dataframe thead tr:only-child th {\n",
       "        text-align: right;\n",
       "    }\n",
       "\n",
       "    .dataframe thead th {\n",
       "        text-align: left;\n",
       "    }\n",
       "\n",
       "    .dataframe tbody tr th {\n",
       "        vertical-align: top;\n",
       "    }\n",
       "</style>\n",
       "<table border=\"1\" class=\"dataframe\">\n",
       "  <thead>\n",
       "    <tr style=\"text-align: right;\">\n",
       "      <th></th>\n",
       "      <th>cik</th>\n",
       "      <th>company_name</th>\n",
       "      <th>date</th>\n",
       "      <th>file</th>\n",
       "      <th>form_type</th>\n",
       "      <th>mda</th>\n",
       "    </tr>\n",
       "  </thead>\n",
       "  <tbody>\n",
       "    <tr>\n",
       "      <th>11165</th>\n",
       "      <td>1288776</td>\n",
       "      <td>Google Inc.</td>\n",
       "      <td>2012-01-26</td>\n",
       "      <td>edgar/data/1288776/0001193125-12-025336.txt</td>\n",
       "      <td>10-K</td>\n",
       "      <td>ITEM 7.\\nMANAGEMENTS DISCUSSION AND ANALYSIS ...</td>\n",
       "    </tr>\n",
       "    <tr>\n",
       "      <th>14355</th>\n",
       "      <td>1011006</td>\n",
       "      <td>YAHOO INC</td>\n",
       "      <td>2012-02-29</td>\n",
       "      <td>edgar/data/1011006/0001193125-12-086972.txt</td>\n",
       "      <td>10-K</td>\n",
       "      <td>ITEM 7.\\nMANAGEMENTS DISCUSSION AND ANALYSIS ...</td>\n",
       "    </tr>\n",
       "    <tr>\n",
       "      <th>15289</th>\n",
       "      <td>1341439</td>\n",
       "      <td>ORACLE CORP</td>\n",
       "      <td>2012-06-26</td>\n",
       "      <td>edgar/data/1341439/0001193125-12-284007.txt</td>\n",
       "      <td>10-K</td>\n",
       "      <td>ITEM 7.    MANAGEMENTS DISCUSSION AND ANALYSI...</td>\n",
       "    </tr>\n",
       "    <tr>\n",
       "      <th>16135</th>\n",
       "      <td>789019</td>\n",
       "      <td>MICROSOFT CORP</td>\n",
       "      <td>2012-07-26</td>\n",
       "      <td>edgar/data/789019/0001193125-12-316848.txt</td>\n",
       "      <td>10-K</td>\n",
       "      <td>ITEM 7. MANAGEMENTS DISCUSSION AND ANALYSIS O...</td>\n",
       "    </tr>\n",
       "    <tr>\n",
       "      <th>16501</th>\n",
       "      <td>320193</td>\n",
       "      <td>APPLE INC</td>\n",
       "      <td>2012-10-31</td>\n",
       "      <td>edgar/data/320193/0001193125-12-444068.txt</td>\n",
       "      <td>10-K</td>\n",
       "      <td>ITEM 7.\\nMANAGEMENTS DISCUSSION AND ANALYSIS ...</td>\n",
       "    </tr>\n",
       "  </tbody>\n",
       "</table>\n",
       "</div>"
      ],
      "text/plain": [
       "           cik    company_name       date  \\\n",
       "11165  1288776     Google Inc. 2012-01-26   \n",
       "14355  1011006       YAHOO INC 2012-02-29   \n",
       "15289  1341439     ORACLE CORP 2012-06-26   \n",
       "16135   789019  MICROSOFT CORP 2012-07-26   \n",
       "16501   320193       APPLE INC 2012-10-31   \n",
       "\n",
       "                                              file form_type  \\\n",
       "11165  edgar/data/1288776/0001193125-12-025336.txt      10-K   \n",
       "14355  edgar/data/1011006/0001193125-12-086972.txt      10-K   \n",
       "15289  edgar/data/1341439/0001193125-12-284007.txt      10-K   \n",
       "16135   edgar/data/789019/0001193125-12-316848.txt      10-K   \n",
       "16501   edgar/data/320193/0001193125-12-444068.txt      10-K   \n",
       "\n",
       "                                                     mda  \n",
       "11165  ITEM 7.\\nMANAGEMENTS DISCUSSION AND ANALYSIS ...  \n",
       "14355  ITEM 7.\\nMANAGEMENTS DISCUSSION AND ANALYSIS ...  \n",
       "15289  ITEM 7.    MANAGEMENTS DISCUSSION AND ANALYSI...  \n",
       "16135  ITEM 7. MANAGEMENTS DISCUSSION AND ANALYSIS O...  \n",
       "16501  ITEM 7.\\nMANAGEMENTS DISCUSSION AND ANALYSIS ...  "
      ]
     },
     "execution_count": 18,
     "metadata": {},
     "output_type": "execute_result"
    }
   ],
   "source": [
    "data.head()"
   ]
  },
  {
   "cell_type": "code",
   "execution_count": null,
   "metadata": {
    "collapsed": true
   },
   "outputs": [],
   "source": []
  }
 ],
 "metadata": {
  "kernelspec": {
   "display_name": "Python 3",
   "language": "python",
   "name": "python3"
  },
  "language_info": {
   "codemirror_mode": {
    "name": "ipython",
    "version": 3
   },
   "file_extension": ".py",
   "mimetype": "text/x-python",
   "name": "python",
   "nbconvert_exporter": "python",
   "pygments_lexer": "ipython3",
   "version": "3.6.2"
  },
  "toc": {
   "colors": {
    "hover_highlight": "#DAA520",
    "navigate_num": "#000000",
    "navigate_text": "#333333",
    "running_highlight": "#FF0000",
    "selected_highlight": "#FFD700",
    "sidebar_border": "#EEEEEE",
    "wrapper_background": "#FFFFFF"
   },
   "moveMenuLeft": true,
   "nav_menu": {
    "height": "84px",
    "width": "252px"
   },
   "navigate_menu": true,
   "number_sections": true,
   "sideBar": true,
   "threshold": 4,
   "toc_cell": false,
   "toc_section_display": "block",
   "toc_window_display": false,
   "widenNotebook": false
  }
 },
 "nbformat": 4,
 "nbformat_minor": 2
}
