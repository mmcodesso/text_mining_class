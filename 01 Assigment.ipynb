{
 "cells": [
  {
   "cell_type": "markdown",
   "metadata": {},
   "source": [
    "#  01. Assigment\n",
    "\n",
    "This assigment, we will creat a script to acess edgar data and download a 1000 samples from 10-K"
   ]
  },
  {
   "cell_type": "markdown",
   "metadata": {},
   "source": [
    "First we will import the dependencies and download a file from edgar with the links to the files tha we want to download.\n",
    "\n",
    "This link https://www.sec.gov/edgar/searchedgar/accessing-edgar-data.htm has teh documentation and the file we want to download first"
   ]
  },
  {
   "cell_type": "markdown",
   "metadata": {},
   "source": [
    "We will download the file 2017 fist quartil. The  file company.idx has the information. "
   ]
  },
  {
   "cell_type": "code",
   "execution_count": 1,
   "metadata": {
    "collapsed": true
   },
   "outputs": [],
   "source": [
    "#Pandas dataframe is a very good pakage to work with files\n",
    "import pandas as pd"
   ]
  },
  {
   "cell_type": "code",
   "execution_count": 2,
   "metadata": {
    "collapsed": true
   },
   "outputs": [],
   "source": [
    "#Here we create a variavle with the url with all url files\n",
    "url_idx = 'https://www.sec.gov/Archives/edgar/full-index/2017/QTR1/company.idx'"
   ]
  },
  {
   "cell_type": "code",
   "execution_count": 3,
   "metadata": {
    "collapsed": true
   },
   "outputs": [],
   "source": [
    "#we use pandas direct to import the file from website into memory\n",
    "#We use the function pd.read_fwf and skip the first 10 row that don't have any data \n",
    "#and without any header.\n",
    "\n",
    "files_link = pd.read_fwf(url_idx, skiprows=10, header =None , \\\n",
    "                         colspecs=[(0,61),(61,73),(74,85), (86,96), (98,150)],\n",
    "                        names= ['company_name','form_type','cik','date','file'])"
   ]
  },
  {
   "cell_type": "code",
   "execution_count": 4,
   "metadata": {},
   "outputs": [
    {
     "data": {
      "text/html": [
       "<div>\n",
       "<style>\n",
       "    .dataframe thead tr:only-child th {\n",
       "        text-align: right;\n",
       "    }\n",
       "\n",
       "    .dataframe thead th {\n",
       "        text-align: left;\n",
       "    }\n",
       "\n",
       "    .dataframe tbody tr th {\n",
       "        vertical-align: top;\n",
       "    }\n",
       "</style>\n",
       "<table border=\"1\" class=\"dataframe\">\n",
       "  <thead>\n",
       "    <tr style=\"text-align: right;\">\n",
       "      <th></th>\n",
       "      <th>company_name</th>\n",
       "      <th>form_type</th>\n",
       "      <th>cik</th>\n",
       "      <th>date</th>\n",
       "      <th>file</th>\n",
       "    </tr>\n",
       "  </thead>\n",
       "  <tbody>\n",
       "    <tr>\n",
       "      <th>0</th>\n",
       "      <td>024 Pharma, Inc.</td>\n",
       "      <td>10-K</td>\n",
       "      <td>1307969</td>\n",
       "      <td>2017-03-24</td>\n",
       "      <td>edgar/data/1307969/0001683168-17-000653.txt</td>\n",
       "    </tr>\n",
       "    <tr>\n",
       "      <th>1</th>\n",
       "      <td>1 800 FLOWERS COM INC</td>\n",
       "      <td>10-Q</td>\n",
       "      <td>1084869</td>\n",
       "      <td>2017-02-10</td>\n",
       "      <td>edgar/data/1084869/0001437749-17-002102.txt</td>\n",
       "    </tr>\n",
       "    <tr>\n",
       "      <th>2</th>\n",
       "      <td>1 800 FLOWERS COM INC</td>\n",
       "      <td>3</td>\n",
       "      <td>1084869</td>\n",
       "      <td>2017-02-07</td>\n",
       "      <td>edgar/data/1084869/0001084869-17-000006.txt</td>\n",
       "    </tr>\n",
       "    <tr>\n",
       "      <th>3</th>\n",
       "      <td>1 800 FLOWERS COM INC</td>\n",
       "      <td>4</td>\n",
       "      <td>1084869</td>\n",
       "      <td>2017-02-03</td>\n",
       "      <td>edgar/data/1084869/0001084869-17-000001.txt</td>\n",
       "    </tr>\n",
       "    <tr>\n",
       "      <th>4</th>\n",
       "      <td>1 800 FLOWERS COM INC</td>\n",
       "      <td>4</td>\n",
       "      <td>1084869</td>\n",
       "      <td>2017-02-06</td>\n",
       "      <td>edgar/data/1084869/0001084869-17-000002.txt</td>\n",
       "    </tr>\n",
       "  </tbody>\n",
       "</table>\n",
       "</div>"
      ],
      "text/plain": [
       "            company_name form_type      cik        date  \\\n",
       "0       024 Pharma, Inc.      10-K  1307969  2017-03-24   \n",
       "1  1 800 FLOWERS COM INC      10-Q  1084869  2017-02-10   \n",
       "2  1 800 FLOWERS COM INC         3  1084869  2017-02-07   \n",
       "3  1 800 FLOWERS COM INC         4  1084869  2017-02-03   \n",
       "4  1 800 FLOWERS COM INC         4  1084869  2017-02-06   \n",
       "\n",
       "                                          file  \n",
       "0  edgar/data/1307969/0001683168-17-000653.txt  \n",
       "1  edgar/data/1084869/0001437749-17-002102.txt  \n",
       "2  edgar/data/1084869/0001084869-17-000006.txt  \n",
       "3  edgar/data/1084869/0001084869-17-000001.txt  \n",
       "4  edgar/data/1084869/0001084869-17-000002.txt  "
      ]
     },
     "execution_count": 4,
     "metadata": {},
     "output_type": "execute_result"
    }
   ],
   "source": [
    "#Let´s take a look how the data looks like\n",
    "files_link.head()"
   ]
  },
  {
   "cell_type": "markdown",
   "metadata": {},
   "source": [
    "How many files we have?"
   ]
  },
  {
   "cell_type": "code",
   "execution_count": 5,
   "metadata": {},
   "outputs": [
    {
     "data": {
      "text/plain": [
       "311453"
      ]
     },
     "execution_count": 5,
     "metadata": {},
     "output_type": "execute_result"
    }
   ],
   "source": [
    "files_link['company_name'].count()"
   ]
  },
  {
   "cell_type": "markdown",
   "metadata": {},
   "source": [
    "WoW!!! More than 300k files. But we don´t need all."
   ]
  },
  {
   "cell_type": "markdown",
   "metadata": {},
   "source": [
    "In the collun 2 we can see the form type, we want only the 10-K's documents, so lets filter"
   ]
  },
  {
   "cell_type": "code",
   "execution_count": 6,
   "metadata": {
    "collapsed": true
   },
   "outputs": [],
   "source": [
    "documents = '10-K'"
   ]
  },
  {
   "cell_type": "code",
   "execution_count": 7,
   "metadata": {},
   "outputs": [
    {
     "data": {
      "text/html": [
       "<div>\n",
       "<style>\n",
       "    .dataframe thead tr:only-child th {\n",
       "        text-align: right;\n",
       "    }\n",
       "\n",
       "    .dataframe thead th {\n",
       "        text-align: left;\n",
       "    }\n",
       "\n",
       "    .dataframe tbody tr th {\n",
       "        vertical-align: top;\n",
       "    }\n",
       "</style>\n",
       "<table border=\"1\" class=\"dataframe\">\n",
       "  <thead>\n",
       "    <tr style=\"text-align: right;\">\n",
       "      <th></th>\n",
       "      <th>company_name</th>\n",
       "      <th>form_type</th>\n",
       "      <th>cik</th>\n",
       "      <th>date</th>\n",
       "      <th>file</th>\n",
       "    </tr>\n",
       "  </thead>\n",
       "  <tbody>\n",
       "    <tr>\n",
       "      <th>0</th>\n",
       "      <td>024 Pharma, Inc.</td>\n",
       "      <td>10-K</td>\n",
       "      <td>1307969</td>\n",
       "      <td>2017-03-24</td>\n",
       "      <td>edgar/data/1307969/0001683168-17-000653.txt</td>\n",
       "    </tr>\n",
       "    <tr>\n",
       "      <th>90</th>\n",
       "      <td>1347 Property Insurance Holdings, Inc.</td>\n",
       "      <td>10-K</td>\n",
       "      <td>1591890</td>\n",
       "      <td>2017-03-16</td>\n",
       "      <td>edgar/data/1591890/0001387131-17-001422.txt</td>\n",
       "    </tr>\n",
       "    <tr>\n",
       "      <th>220</th>\n",
       "      <td>1ST CONSTITUTION BANCORP</td>\n",
       "      <td>10-K</td>\n",
       "      <td>1141807</td>\n",
       "      <td>2017-03-16</td>\n",
       "      <td>edgar/data/1141807/0001141807-17-000012.txt</td>\n",
       "    </tr>\n",
       "    <tr>\n",
       "      <th>238</th>\n",
       "      <td>1ST SOURCE CORP</td>\n",
       "      <td>10-K</td>\n",
       "      <td>34782</td>\n",
       "      <td>2017-02-17</td>\n",
       "      <td>edgar/data/34782/0000034782-17-000036.txt</td>\n",
       "    </tr>\n",
       "    <tr>\n",
       "      <th>265</th>\n",
       "      <td>1st FRANKLIN FINANCIAL CORP</td>\n",
       "      <td>10-K</td>\n",
       "      <td>38723</td>\n",
       "      <td>2017-03-31</td>\n",
       "      <td>edgar/data/38723/0001376474-17-000071.txt</td>\n",
       "    </tr>\n",
       "  </tbody>\n",
       "</table>\n",
       "</div>"
      ],
      "text/plain": [
       "                               company_name form_type      cik        date  \\\n",
       "0                          024 Pharma, Inc.      10-K  1307969  2017-03-24   \n",
       "90   1347 Property Insurance Holdings, Inc.      10-K  1591890  2017-03-16   \n",
       "220                1ST CONSTITUTION BANCORP      10-K  1141807  2017-03-16   \n",
       "238                         1ST SOURCE CORP      10-K    34782  2017-02-17   \n",
       "265             1st FRANKLIN FINANCIAL CORP      10-K    38723  2017-03-31   \n",
       "\n",
       "                                            file  \n",
       "0    edgar/data/1307969/0001683168-17-000653.txt  \n",
       "90   edgar/data/1591890/0001387131-17-001422.txt  \n",
       "220  edgar/data/1141807/0001141807-17-000012.txt  \n",
       "238    edgar/data/34782/0000034782-17-000036.txt  \n",
       "265    edgar/data/38723/0001376474-17-000071.txt  "
      ]
     },
     "execution_count": 7,
     "metadata": {},
     "output_type": "execute_result"
    }
   ],
   "source": [
    "files_link_10k = files_link[files_link['form_type'] == documents]\n",
    "files_link_10k.head()"
   ]
  },
  {
   "cell_type": "markdown",
   "metadata": {},
   "source": [
    "How may files do we have now?"
   ]
  },
  {
   "cell_type": "code",
   "execution_count": 8,
   "metadata": {},
   "outputs": [
    {
     "data": {
      "text/plain": [
       "5275"
      ]
     },
     "execution_count": 8,
     "metadata": {},
     "output_type": "execute_result"
    }
   ],
   "source": [
    "files_link_10k['company_name'].count()"
   ]
  },
  {
   "cell_type": "markdown",
   "metadata": {},
   "source": [
    "We need only 100 documents, we can download the first ones or we can sample randomly.\n",
    "lets take a sample from this."
   ]
  },
  {
   "cell_type": "code",
   "execution_count": 9,
   "metadata": {
    "collapsed": true
   },
   "outputs": [],
   "source": [
    "num_sample = 100"
   ]
  },
  {
   "cell_type": "code",
   "execution_count": 10,
   "metadata": {
    "collapsed": true
   },
   "outputs": [],
   "source": [
    "#we can set randon_state, so we can reproduce or sampling \n",
    "sample_files_link_10k = pd.DataFrame(files_link_10k.sample(n=num_sample,random_state=0),\\\n",
    "                                     copy=True)\n",
    "sample_files_link_10k.reset_index(inplace=True)"
   ]
  },
  {
   "cell_type": "code",
   "execution_count": 11,
   "metadata": {},
   "outputs": [
    {
     "data": {
      "text/html": [
       "<div>\n",
       "<style>\n",
       "    .dataframe thead tr:only-child th {\n",
       "        text-align: right;\n",
       "    }\n",
       "\n",
       "    .dataframe thead th {\n",
       "        text-align: left;\n",
       "    }\n",
       "\n",
       "    .dataframe tbody tr th {\n",
       "        vertical-align: top;\n",
       "    }\n",
       "</style>\n",
       "<table border=\"1\" class=\"dataframe\">\n",
       "  <thead>\n",
       "    <tr style=\"text-align: right;\">\n",
       "      <th></th>\n",
       "      <th>index</th>\n",
       "      <th>company_name</th>\n",
       "      <th>form_type</th>\n",
       "      <th>cik</th>\n",
       "      <th>date</th>\n",
       "      <th>file</th>\n",
       "    </tr>\n",
       "  </thead>\n",
       "  <tbody>\n",
       "    <tr>\n",
       "      <th>0</th>\n",
       "      <td>275433</td>\n",
       "      <td>TRAVELZOO INC</td>\n",
       "      <td>10-K</td>\n",
       "      <td>1133311</td>\n",
       "      <td>2017-03-15</td>\n",
       "      <td>edgar/data/1133311/0001133311-17-000010.txt</td>\n",
       "    </tr>\n",
       "    <tr>\n",
       "      <th>1</th>\n",
       "      <td>2116</td>\n",
       "      <td>ACCO BRANDS Corp</td>\n",
       "      <td>10-K</td>\n",
       "      <td>712034</td>\n",
       "      <td>2017-02-27</td>\n",
       "      <td>edgar/data/712034/0000712034-17-000012.txt</td>\n",
       "    </tr>\n",
       "    <tr>\n",
       "      <th>2</th>\n",
       "      <td>127781</td>\n",
       "      <td>GrowGeneration Corp.</td>\n",
       "      <td>10-K</td>\n",
       "      <td>1604868</td>\n",
       "      <td>2017-03-31</td>\n",
       "      <td>edgar/data/1604868/0001213900-17-003102.txt</td>\n",
       "    </tr>\n",
       "    <tr>\n",
       "      <th>3</th>\n",
       "      <td>16371</td>\n",
       "      <td>Advanced Biomedical Technologies Inc.</td>\n",
       "      <td>10-K</td>\n",
       "      <td>1385799</td>\n",
       "      <td>2017-02-14</td>\n",
       "      <td>edgar/data/1385799/0001387131-17-000831.txt</td>\n",
       "    </tr>\n",
       "    <tr>\n",
       "      <th>4</th>\n",
       "      <td>230264</td>\n",
       "      <td>Primerica, Inc.</td>\n",
       "      <td>10-K</td>\n",
       "      <td>1475922</td>\n",
       "      <td>2017-02-27</td>\n",
       "      <td>edgar/data/1475922/0001564590-17-002594.txt</td>\n",
       "    </tr>\n",
       "  </tbody>\n",
       "</table>\n",
       "</div>"
      ],
      "text/plain": [
       "    index                           company_name form_type      cik  \\\n",
       "0  275433                          TRAVELZOO INC      10-K  1133311   \n",
       "1    2116                       ACCO BRANDS Corp      10-K   712034   \n",
       "2  127781                   GrowGeneration Corp.      10-K  1604868   \n",
       "3   16371  Advanced Biomedical Technologies Inc.      10-K  1385799   \n",
       "4  230264                        Primerica, Inc.      10-K  1475922   \n",
       "\n",
       "         date                                         file  \n",
       "0  2017-03-15  edgar/data/1133311/0001133311-17-000010.txt  \n",
       "1  2017-02-27   edgar/data/712034/0000712034-17-000012.txt  \n",
       "2  2017-03-31  edgar/data/1604868/0001213900-17-003102.txt  \n",
       "3  2017-02-14  edgar/data/1385799/0001387131-17-000831.txt  \n",
       "4  2017-02-27  edgar/data/1475922/0001564590-17-002594.txt  "
      ]
     },
     "execution_count": 11,
     "metadata": {},
     "output_type": "execute_result"
    }
   ],
   "source": [
    "sample_files_link_10k.head()"
   ]
  },
  {
   "cell_type": "markdown",
   "metadata": {},
   "source": [
    "Now we can download the files.\n",
    "First we need to put the beginig url and than download the files "
   ]
  },
  {
   "cell_type": "code",
   "execution_count": 12,
   "metadata": {
    "collapsed": true
   },
   "outputs": [],
   "source": [
    "import urllib.request #to download the data from a website\n",
    "import sys #to print \n",
    "import time #to get the time\n",
    "\n",
    "count = 0\n",
    "corpus = []\n",
    "timeout = 15 #use this timeout to download the data. \n",
    "base_url = 'https://www.sec.gov/Archives/'"
   ]
  },
  {
   "cell_type": "code",
   "execution_count": 13,
   "metadata": {},
   "outputs": [
    {
     "name": "stdout",
     "output_type": "stream",
     "text": [
      "Progress: 100.0% ... Documents processed: 100 time running: 3 minutes."
     ]
    }
   ],
   "source": [
    "#start the clock. Lets se how long it takes to download our files\n",
    "start = time.time()\n",
    "\n",
    "\n",
    "for row in sample_files_link_10k['file']:\n",
    "    count += 1\n",
    "    baselink = base_url + row\n",
    "    text = ''\n",
    "    text = urllib.request.urlopen(baselink,timeout=5).read()\n",
    "    corpus.append(text)\n",
    "    end = time.time()\n",
    "    \n",
    "    \n",
    "    # Printing out the the progress\n",
    "    sys.stdout.write(\"\\rProgress: {:2.1f}\".format(100 * count/float(num_sample)) \\\n",
    "                     + \"% ... Documents processed: \" + str(count) \\\n",
    "                     + \" time running: \" + str(int((end-start)/60)) + \" minutes.\") \n",
    "    sys.stdout.flush()\n",
    "    "
   ]
  },
  {
   "cell_type": "markdown",
   "metadata": {},
   "source": [
    "Now all files are saved as a list into memory. Lets transform to a Dataframe and put as a column in our previous dataframe.\n"
   ]
  },
  {
   "cell_type": "code",
   "execution_count": 14,
   "metadata": {
    "collapsed": true
   },
   "outputs": [],
   "source": [
    "sample_files_link_10k['corpus'] = pd.DataFrame(corpus)"
   ]
  },
  {
   "cell_type": "code",
   "execution_count": 15,
   "metadata": {},
   "outputs": [
    {
     "data": {
      "text/html": [
       "<div>\n",
       "<style>\n",
       "    .dataframe thead tr:only-child th {\n",
       "        text-align: right;\n",
       "    }\n",
       "\n",
       "    .dataframe thead th {\n",
       "        text-align: left;\n",
       "    }\n",
       "\n",
       "    .dataframe tbody tr th {\n",
       "        vertical-align: top;\n",
       "    }\n",
       "</style>\n",
       "<table border=\"1\" class=\"dataframe\">\n",
       "  <thead>\n",
       "    <tr style=\"text-align: right;\">\n",
       "      <th></th>\n",
       "      <th>index</th>\n",
       "      <th>company_name</th>\n",
       "      <th>form_type</th>\n",
       "      <th>cik</th>\n",
       "      <th>date</th>\n",
       "      <th>file</th>\n",
       "      <th>corpus</th>\n",
       "    </tr>\n",
       "  </thead>\n",
       "  <tbody>\n",
       "    <tr>\n",
       "      <th>0</th>\n",
       "      <td>275433</td>\n",
       "      <td>TRAVELZOO INC</td>\n",
       "      <td>10-K</td>\n",
       "      <td>1133311</td>\n",
       "      <td>2017-03-15</td>\n",
       "      <td>edgar/data/1133311/0001133311-17-000010.txt</td>\n",
       "      <td>b'&lt;SEC-DOCUMENT&gt;0001133311-17-000010.txt : 201...</td>\n",
       "    </tr>\n",
       "    <tr>\n",
       "      <th>1</th>\n",
       "      <td>2116</td>\n",
       "      <td>ACCO BRANDS Corp</td>\n",
       "      <td>10-K</td>\n",
       "      <td>712034</td>\n",
       "      <td>2017-02-27</td>\n",
       "      <td>edgar/data/712034/0000712034-17-000012.txt</td>\n",
       "      <td>b'&lt;SEC-DOCUMENT&gt;0000712034-17-000012.txt : 201...</td>\n",
       "    </tr>\n",
       "    <tr>\n",
       "      <th>2</th>\n",
       "      <td>127781</td>\n",
       "      <td>GrowGeneration Corp.</td>\n",
       "      <td>10-K</td>\n",
       "      <td>1604868</td>\n",
       "      <td>2017-03-31</td>\n",
       "      <td>edgar/data/1604868/0001213900-17-003102.txt</td>\n",
       "      <td>b'&lt;SEC-DOCUMENT&gt;0001213900-17-003102.txt : 201...</td>\n",
       "    </tr>\n",
       "    <tr>\n",
       "      <th>3</th>\n",
       "      <td>16371</td>\n",
       "      <td>Advanced Biomedical Technologies Inc.</td>\n",
       "      <td>10-K</td>\n",
       "      <td>1385799</td>\n",
       "      <td>2017-02-14</td>\n",
       "      <td>edgar/data/1385799/0001387131-17-000831.txt</td>\n",
       "      <td>b'&lt;SEC-DOCUMENT&gt;0001387131-17-000831.txt : 201...</td>\n",
       "    </tr>\n",
       "    <tr>\n",
       "      <th>4</th>\n",
       "      <td>230264</td>\n",
       "      <td>Primerica, Inc.</td>\n",
       "      <td>10-K</td>\n",
       "      <td>1475922</td>\n",
       "      <td>2017-02-27</td>\n",
       "      <td>edgar/data/1475922/0001564590-17-002594.txt</td>\n",
       "      <td>b'&lt;SEC-DOCUMENT&gt;0001564590-17-002594.txt : 201...</td>\n",
       "    </tr>\n",
       "  </tbody>\n",
       "</table>\n",
       "</div>"
      ],
      "text/plain": [
       "    index                           company_name form_type      cik  \\\n",
       "0  275433                          TRAVELZOO INC      10-K  1133311   \n",
       "1    2116                       ACCO BRANDS Corp      10-K   712034   \n",
       "2  127781                   GrowGeneration Corp.      10-K  1604868   \n",
       "3   16371  Advanced Biomedical Technologies Inc.      10-K  1385799   \n",
       "4  230264                        Primerica, Inc.      10-K  1475922   \n",
       "\n",
       "         date                                         file  \\\n",
       "0  2017-03-15  edgar/data/1133311/0001133311-17-000010.txt   \n",
       "1  2017-02-27   edgar/data/712034/0000712034-17-000012.txt   \n",
       "2  2017-03-31  edgar/data/1604868/0001213900-17-003102.txt   \n",
       "3  2017-02-14  edgar/data/1385799/0001387131-17-000831.txt   \n",
       "4  2017-02-27  edgar/data/1475922/0001564590-17-002594.txt   \n",
       "\n",
       "                                              corpus  \n",
       "0  b'<SEC-DOCUMENT>0001133311-17-000010.txt : 201...  \n",
       "1  b'<SEC-DOCUMENT>0000712034-17-000012.txt : 201...  \n",
       "2  b'<SEC-DOCUMENT>0001213900-17-003102.txt : 201...  \n",
       "3  b'<SEC-DOCUMENT>0001387131-17-000831.txt : 201...  \n",
       "4  b'<SEC-DOCUMENT>0001564590-17-002594.txt : 201...  "
      ]
     },
     "execution_count": 15,
     "metadata": {},
     "output_type": "execute_result"
    }
   ],
   "source": [
    "sample_files_link_10k.head()"
   ]
  },
  {
   "cell_type": "markdown",
   "metadata": {},
   "source": [
    "We have download all our files, but it is in memory. Let´s save into disk in one single file. So it will be very easy to import and work with this data after.\n",
    "\n",
    "I will use .pickle that is a very good formart to save this kind of objects"
   ]
  },
  {
   "cell_type": "code",
   "execution_count": 16,
   "metadata": {
    "collapsed": true
   },
   "outputs": [],
   "source": [
    "#Saving the data for future use\n",
    "sample_files_link_10k.to_pickle('./data/raw/10-K_Data.pik')"
   ]
  },
  {
   "cell_type": "markdown",
   "metadata": {
    "collapsed": true
   },
   "source": [
    "Now we can just load the file and wont need to import everything again.\n",
    "\n",
    "If we download too much data, it is possible that we wont have enoght memomry in our computer, than we need to save every file and work in batchs."
   ]
  }
 ],
 "metadata": {
  "kernelspec": {
   "display_name": "Python 3",
   "language": "python",
   "name": "python3"
  },
  "language_info": {
   "codemirror_mode": {
    "name": "ipython",
    "version": 3
   },
   "file_extension": ".py",
   "mimetype": "text/x-python",
   "name": "python",
   "nbconvert_exporter": "python",
   "pygments_lexer": "ipython3",
   "version": "3.6.2"
  },
  "toc": {
   "colors": {
    "hover_highlight": "#DAA520",
    "navigate_num": "#000000",
    "navigate_text": "#333333",
    "running_highlight": "#FF0000",
    "selected_highlight": "#FFD700",
    "sidebar_border": "#EEEEEE",
    "wrapper_background": "#FFFFFF"
   },
   "moveMenuLeft": true,
   "nav_menu": {
    "height": "30px",
    "width": "252px"
   },
   "navigate_menu": true,
   "number_sections": true,
   "sideBar": true,
   "threshold": 4,
   "toc_cell": false,
   "toc_section_display": "block",
   "toc_window_display": false,
   "widenNotebook": false
  }
 },
 "nbformat": 4,
 "nbformat_minor": 2
}
