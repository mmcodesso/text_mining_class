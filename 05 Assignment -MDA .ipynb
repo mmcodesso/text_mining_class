{
 "cells": [
  {
   "cell_type": "markdown",
   "metadata": {},
   "source": [
    "# Assigment 05\n",
    "\n",
    "Now that we already have the data from previous assgiment, let import the files and start to work with them."
   ]
  },
  {
   "cell_type": "code",
   "execution_count": 1,
   "metadata": {
    "collapsed": true
   },
   "outputs": [],
   "source": [
    "#Import the librarys\n",
    "import pandas as pd\n",
    "\n",
    "from tqdm import tqdm\n",
    "tqdm.pandas(desc=\"Processing\")"
   ]
  },
  {
   "cell_type": "code",
   "execution_count": 2,
   "metadata": {
    "collapsed": true
   },
   "outputs": [],
   "source": [
    "data = pd.read_pickle('./data/raw/10-K_Data.pik')"
   ]
  },
  {
   "cell_type": "markdown",
   "metadata": {},
   "source": [
    "## Removing the html tags"
   ]
  },
  {
   "cell_type": "markdown",
   "metadata": {},
   "source": [
    "The files we have imported have html tags and it is very dificult to read, lets tale a look"
   ]
  },
  {
   "cell_type": "code",
   "execution_count": 3,
   "metadata": {},
   "outputs": [
    {
     "name": "stdout",
     "output_type": "stream",
     "text": [
      "b'ollapse;text-align:left;\"><tr><td colspan=\"2\"></td></tr><tr><td style=\"width:6%;\"></td><td style=\"width:94%;\"></td></tr><tr><td style=\"vertical-align:top;padding-left:2px;padding-top:2px;padding-bottom:2px;padding-right:2px;\"><div style=\"text-align:left;font-size:12pt;\"><font style=\"font-family:Wingdings;font-size:12pt;\">x</font></div></td><td style=\"vertical-align:top;padding-left:2px;padding-top:2px;padding-bottom:2px;padding-right:2px;\"><div style=\"text-align:left;font-size:12pt;\"><font style=\"font-family:inherit;font-size:12pt;font-weight:bold;\">ANNUAL REPORT PURSUANT TO SECTION 13 OR 15(d) OF THE SECURITIES EXCHANGE ACT OF 1934</font></div></td></tr></table></div></div><div style=\"line-height:120%;padding-top:12px;text-align:center;font-size:10pt;\"><font style=\"font-family:inherit;font-size:10pt;font-weight:bold;\">For the fiscal year ended </font><font style=\"font-family:inherit;font-size:10pt;color:#000000;font-weight:bold;text-decoration:none;\">December&#160;31, 2016</font><font'\n"
     ]
    }
   ],
   "source": [
    "sample = data['corpus'][0]\n",
    "print(sample[3000:4000])"
   ]
  },
  {
   "cell_type": "code",
   "execution_count": 4,
   "metadata": {
    "collapsed": true
   },
   "outputs": [],
   "source": [
    "from bs4 import BeautifulSoup\n",
    "import unicodedata\n",
    "import re\n",
    "\n",
    "def text_process(text):\n",
    "    \"\"\"\n",
    "    Preprocess Text\n",
    "    \"\"\"\n",
    "    #Remove the  html tags\n",
    "    soup = BeautifulSoup(text, \"html.parser\" )\n",
    "    text = soup.get_text(\"\\n\")\n",
    "    \n",
    "    # Normalize\n",
    "    text = unicodedata.normalize(\"NFKD\", text) \n",
    "    text = '\\n'.join(text.splitlines())\n",
    "\n",
    "    # Take care of breaklines & whitespaces combinations due to beautifulsoup parsing\n",
    "    text = re.sub(r'[ ]+\\n', '\\n', text)\n",
    "    text = re.sub(r'\\n[ ]+', '\\n', text)\n",
    "    text = re.sub(r'\\n+', '\\n', text)\n",
    "\n",
    "    # Reformat item headers\n",
    "    text = text.replace('\\n.\\n','.\\n') # Move Period to beginning\n",
    "\n",
    "    text = text.replace('\\nI\\nTEM','\\nITEM')\n",
    "    text = text.replace('\\nITEM\\n','\\nITEM ')\n",
    "    text = text.replace('\\nITEM  ','\\nITEM ')\n",
    "\n",
    "    text = text.replace(':\\n','.\\n')\n",
    "\n",
    "    # Math symbols for clearer looks\n",
    "    text = text.replace('$\\n','$')\n",
    "    text = text.replace('\\n%','%')\n",
    "    \n",
    "    return text"
   ]
  },
  {
   "cell_type": "code",
   "execution_count": 5,
   "metadata": {},
   "outputs": [
    {
     "name": "stdout",
     "output_type": "stream",
     "text": [
      "egistrant has submitted electronically and posted on its corporate website, if any, every Interactive Data File required to be submitted and posted pursuant to Rule 405 of Regulation S-T during the preceding 12 months (or for such shorter period that the registrant was required to submit and post such files).    Yes\n",
      "x\n",
      "No\n",
      "̈\n",
      "Indicate by check mark if disclosure of delinquent filers pursuant to Item 405 of Regulation S-K is not contained herein, and will not be contained, to the best of Registrant’s knowledge, in definitive proxy or information statements incorporated by reference in Part III of this Form 10-K or any amendment to this Form 10-K.\n",
      "x\n",
      "Indicate by check mark whether the Registrant is a large accelerated filer, an accelerated filer, a non-accelerated filer, or a smaller reporting company. See the definitions of “large accelerated filer,” “accelerated filer” and “smaller reporting company” in Rule 12b-2 of the Exchange Act. (Check one).\n",
      "Large accelerated filer\n",
      "̈\n",
      "Accelerated file\n"
     ]
    }
   ],
   "source": [
    "# Check to make sure its working\n",
    "sample_clean = data['corpus'].head(1).apply(text_process)\n",
    "print(list(sample_clean)[0][3000:4000])"
   ]
  },
  {
   "cell_type": "code",
   "execution_count": 6,
   "metadata": {},
   "outputs": [
    {
     "name": "stderr",
     "output_type": "stream",
     "text": [
      "Processing: 100%|██████████| 100/100 [20:44<00:00,  4.82s/it] \n"
     ]
    }
   ],
   "source": [
    "data['corpus'] = data['corpus'].progress_apply(text_process)"
   ]
  },
  {
   "cell_type": "code",
   "execution_count": 8,
   "metadata": {},
   "outputs": [
    {
     "name": "stdout",
     "output_type": "stream",
     "text": [
      "egistrant has submitted electronically and posted on its corporate website, if any, every Interactive Data File required to be submitted and posted pursuant to Rule 405 of Regulation S-T during the preceding 12 months (or for such shorter period that the registrant was required to submit and post such files).    Yes\n",
      "x\n",
      "No\n",
      "̈\n",
      "Indicate by check mark if disclosure of delinquent filers pursuant to Item 405 of Regulation S-K is not contained herein, and will not be contained, to the best of Registrant’s knowledge, in definitive proxy or information statements incorporated by reference in Part III of this Form 10-K or any amendment to this Form 10-K.\n",
      "x\n",
      "Indicate by check mark whether the Registrant is a large accelerated filer, an accelerated filer, a non-accelerated filer, or a smaller reporting company. See the definitions of “large accelerated filer,” “accelerated filer” and “smaller reporting company” in Rule 12b-2 of the Exchange Act. (Check one).\n",
      "Large accelerated filer\n",
      "̈\n",
      "Accelerated file\n"
     ]
    }
   ],
   "source": [
    "print(list(data['corpus'].head(1))[0][3000:4000])"
   ]
  },
  {
   "cell_type": "markdown",
   "metadata": {},
   "source": [
    "Lets save the file already clened, so next time we can start from here."
   ]
  },
  {
   "cell_type": "code",
   "execution_count": 9,
   "metadata": {
    "collapsed": true
   },
   "outputs": [],
   "source": [
    "data.to_pickle('./data/10k-clean.pik')"
   ]
  },
  {
   "cell_type": "markdown",
   "metadata": {},
   "source": [
    "# Extracting only MDA"
   ]
  },
  {
   "cell_type": "code",
   "execution_count": 1,
   "metadata": {
    "collapsed": true
   },
   "outputs": [],
   "source": [
    "import pandas as pd\n",
    "from tqdm import tqdm\n",
    "tqdm.pandas(desc=\"Processing\")\n",
    "\n",
    "data = pd.read_pickle('./data/10k-clean.pik')"
   ]
  },
  {
   "cell_type": "code",
   "execution_count": 2,
   "metadata": {},
   "outputs": [],
   "source": [
    "def parsing_job(text):\n",
    "    mda, end= parse_mda(text)    \n",
    "    # Parse second time if first parse results in index \n",
    "    if mda and len(mda.encode('utf-8')) < 1000:\n",
    "        mda, _ = parse_mda(text, start=end)\n",
    "    return mda"
   ]
  },
  {
   "cell_type": "code",
   "execution_count": 3,
   "metadata": {
    "collapsed": true
   },
   "outputs": [],
   "source": [
    "def parse_mda(text, start=0):\n",
    "        debug = False\n",
    "        \"\"\"\n",
    "            Return Values\n",
    "        \"\"\"\n",
    "\n",
    "        mda = \"\"\n",
    "        end = 0\n",
    "\n",
    "        \"\"\"\n",
    "            Parsing Rules\n",
    "        \"\"\"\n",
    "\n",
    "        # Define start & end signal for parsing\n",
    "        item7_begins = [ '\\nITEM 7.', '\\nITEM 7 –','\\nITEM 7:', '\\nITEM 7 ', '\\nITEM 7\\n' ]\n",
    "        item7_ends   = [ '\\nITEM 7A' ]\n",
    "        if start != 0:\n",
    "            item7_ends.append('\\nITEM 7') # Case: ITEM 7A does not exist\n",
    "        item8_begins = [ '\\nITEM 8'  ]\n",
    "\n",
    "        \"\"\"\n",
    "            Parsing code section\n",
    "        \"\"\"\n",
    "        text = text[start:]\n",
    "\n",
    "        # Get begin\n",
    "        for item7 in item7_begins:\n",
    "            begin = text.find(item7)\n",
    "            if debug:\n",
    "                print(item7,begin)\n",
    "            if begin != -1:\n",
    "                break\n",
    "\n",
    "        if begin != -1: # Begin found\n",
    "            for item7A in item7_ends:\n",
    "                end = text.find(item7A, begin+1)\n",
    "                if debug:\n",
    "                    print(item7A,end)\n",
    "                if end != -1:\n",
    "                    break\n",
    "\n",
    "            if end == -1: # ITEM 7A does not exist\n",
    "                for item8 in item8_begins:\n",
    "                    end = text.find(item8, begin+1)\n",
    "                    if debug:\n",
    "                        print(item8,end)\n",
    "                    if end != -1:\n",
    "                        break\n",
    "\n",
    "            # Get MDA\n",
    "            if end > begin:\n",
    "                mda = text[begin:end].strip()\n",
    "            else:\n",
    "                end = 0\n",
    "\n",
    "        return mda, end"
   ]
  },
  {
   "cell_type": "code",
   "execution_count": 4,
   "metadata": {},
   "outputs": [
    {
     "name": "stdout",
     "output_type": "stream",
     "text": [
      "ents. The first refinancing was in connection with the PA Acquisition. In addition, in December 2016, the Company refinanced its Senior Unsecured Notes at a lower interest rate, extending the maturity of the debt an additional 4 years to 2024.\n",
      "In connection with the PA Acquisition and the Esselte Acquisition, announced in October 2016, the Company incurred\n",
      "$12.8 million\n",
      "of transaction and integration costs in 2016.\n",
      "Foreign Currency\n",
      "The strong U.S. dollar impacted our 2016 results from both a translation and transaction perspective. With respect to translation the strong U.S. dollar decreased our 2016 reported sales by\n",
      "$16.9 million\n",
      ", or\n",
      "1%\n",
      ", but slightly benefited our operating income.\n",
      "26\n",
      "Foreign currency translation increased operating income by\n",
      "$1.6 million\n",
      ", or\n",
      "1%\n",
      ", due to the seasonality of our Brazilian business, which earns most of its income in the fourth quarter when the Brazilian real strengthened.\n",
      "With respect to the transaction impact, in response to the strengthening of the\n"
     ]
    }
   ],
   "source": [
    "sample_mda = data['corpus'].head(2).apply(parsing_job)\n",
    "print(sample_mda[1][9000:10000])"
   ]
  },
  {
   "cell_type": "code",
   "execution_count": 5,
   "metadata": {},
   "outputs": [
    {
     "name": "stderr",
     "output_type": "stream",
     "text": [
      "Processing: 100%|██████████| 100/100 [00:00<00:00, 157.49it/s]\n"
     ]
    }
   ],
   "source": [
    "data['corpus'] = data['corpus'].progress_apply(parsing_job)"
   ]
  },
  {
   "cell_type": "code",
   "execution_count": 6,
   "metadata": {},
   "outputs": [
    {
     "data": {
      "text/html": [
       "<div>\n",
       "<style>\n",
       "    .dataframe thead tr:only-child th {\n",
       "        text-align: right;\n",
       "    }\n",
       "\n",
       "    .dataframe thead th {\n",
       "        text-align: left;\n",
       "    }\n",
       "\n",
       "    .dataframe tbody tr th {\n",
       "        vertical-align: top;\n",
       "    }\n",
       "</style>\n",
       "<table border=\"1\" class=\"dataframe\">\n",
       "  <thead>\n",
       "    <tr style=\"text-align: right;\">\n",
       "      <th></th>\n",
       "      <th>index</th>\n",
       "      <th>company_name</th>\n",
       "      <th>form_type</th>\n",
       "      <th>cik</th>\n",
       "      <th>date</th>\n",
       "      <th>file</th>\n",
       "      <th>corpus</th>\n",
       "    </tr>\n",
       "  </thead>\n",
       "  <tbody>\n",
       "    <tr>\n",
       "      <th>0</th>\n",
       "      <td>275433</td>\n",
       "      <td>TRAVELZOO INC</td>\n",
       "      <td>10-K</td>\n",
       "      <td>1133311</td>\n",
       "      <td>2017-03-15</td>\n",
       "      <td>edgar/data/1133311/0001133311-17-000010.txt</td>\n",
       "      <td></td>\n",
       "    </tr>\n",
       "    <tr>\n",
       "      <th>1</th>\n",
       "      <td>2116</td>\n",
       "      <td>ACCO BRANDS Corp</td>\n",
       "      <td>10-K</td>\n",
       "      <td>712034</td>\n",
       "      <td>2017-02-27</td>\n",
       "      <td>edgar/data/712034/0000712034-17-000012.txt</td>\n",
       "      <td>ITEM 7.\\nMANAGEMENT’S DISCUSSION AND ANALYSIS ...</td>\n",
       "    </tr>\n",
       "    <tr>\n",
       "      <th>2</th>\n",
       "      <td>127781</td>\n",
       "      <td>GrowGeneration Corp.</td>\n",
       "      <td>10-K</td>\n",
       "      <td>1604868</td>\n",
       "      <td>2017-03-31</td>\n",
       "      <td>edgar/data/1604868/0001213900-17-003102.txt</td>\n",
       "      <td>ITEM 7. MANAGEMENT'S DISCUSSION AND ANALYSIS O...</td>\n",
       "    </tr>\n",
       "    <tr>\n",
       "      <th>3</th>\n",
       "      <td>16371</td>\n",
       "      <td>Advanced Biomedical Technologies Inc.</td>\n",
       "      <td>10-K</td>\n",
       "      <td>1385799</td>\n",
       "      <td>2017-02-14</td>\n",
       "      <td>edgar/data/1385799/0001387131-17-000831.txt</td>\n",
       "      <td>ITEM 7.  MANAGEMENT’S DISCUSSION AND ANALYSIS ...</td>\n",
       "    </tr>\n",
       "    <tr>\n",
       "      <th>4</th>\n",
       "      <td>230264</td>\n",
       "      <td>Primerica, Inc.</td>\n",
       "      <td>10-K</td>\n",
       "      <td>1475922</td>\n",
       "      <td>2017-02-27</td>\n",
       "      <td>edgar/data/1475922/0001564590-17-002594.txt</td>\n",
       "      <td>ITEM 7.\\nMANAGEMENT’S DISCUSSION AND ANALYSIS ...</td>\n",
       "    </tr>\n",
       "  </tbody>\n",
       "</table>\n",
       "</div>"
      ],
      "text/plain": [
       "    index                           company_name form_type      cik  \\\n",
       "0  275433                          TRAVELZOO INC      10-K  1133311   \n",
       "1    2116                       ACCO BRANDS Corp      10-K   712034   \n",
       "2  127781                   GrowGeneration Corp.      10-K  1604868   \n",
       "3   16371  Advanced Biomedical Technologies Inc.      10-K  1385799   \n",
       "4  230264                        Primerica, Inc.      10-K  1475922   \n",
       "\n",
       "         date                                         file  \\\n",
       "0  2017-03-15  edgar/data/1133311/0001133311-17-000010.txt   \n",
       "1  2017-02-27   edgar/data/712034/0000712034-17-000012.txt   \n",
       "2  2017-03-31  edgar/data/1604868/0001213900-17-003102.txt   \n",
       "3  2017-02-14  edgar/data/1385799/0001387131-17-000831.txt   \n",
       "4  2017-02-27  edgar/data/1475922/0001564590-17-002594.txt   \n",
       "\n",
       "                                              corpus  \n",
       "0                                                     \n",
       "1  ITEM 7.\\nMANAGEMENT’S DISCUSSION AND ANALYSIS ...  \n",
       "2  ITEM 7. MANAGEMENT'S DISCUSSION AND ANALYSIS O...  \n",
       "3  ITEM 7.  MANAGEMENT’S DISCUSSION AND ANALYSIS ...  \n",
       "4  ITEM 7.\\nMANAGEMENT’S DISCUSSION AND ANALYSIS ...  "
      ]
     },
     "execution_count": 6,
     "metadata": {},
     "output_type": "execute_result"
    }
   ],
   "source": [
    "data.head()"
   ]
  },
  {
   "cell_type": "markdown",
   "metadata": {},
   "source": [
    "Lets Save to future analisys"
   ]
  },
  {
   "cell_type": "code",
   "execution_count": 7,
   "metadata": {
    "collapsed": true
   },
   "outputs": [],
   "source": [
    "data.to_json('./data/mda.json')"
   ]
  }
 ],
 "metadata": {
  "kernelspec": {
   "display_name": "Python 3",
   "language": "python",
   "name": "python3"
  },
  "language_info": {
   "codemirror_mode": {
    "name": "ipython",
    "version": 3
   },
   "file_extension": ".py",
   "mimetype": "text/x-python",
   "name": "python",
   "nbconvert_exporter": "python",
   "pygments_lexer": "ipython3",
   "version": "3.6.2"
  },
  "toc": {
   "colors": {
    "hover_highlight": "#DAA520",
    "navigate_num": "#000000",
    "navigate_text": "#333333",
    "running_highlight": "#FF0000",
    "selected_highlight": "#FFD700",
    "sidebar_border": "#EEEEEE",
    "wrapper_background": "#FFFFFF"
   },
   "moveMenuLeft": true,
   "nav_menu": {
    "height": "48px",
    "width": "252px"
   },
   "navigate_menu": true,
   "number_sections": true,
   "sideBar": true,
   "threshold": 4,
   "toc_cell": false,
   "toc_section_display": "block",
   "toc_window_display": false,
   "widenNotebook": false
  }
 },
 "nbformat": 4,
 "nbformat_minor": 2
}
